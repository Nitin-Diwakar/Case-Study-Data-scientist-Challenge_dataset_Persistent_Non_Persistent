{
 "cells": [
  {
   "cell_type": "markdown",
   "id": "61bd2af7",
   "metadata": {
    "toc": true
   },
   "source": [
    "<h1>Table of Contents<span class=\"tocSkip\"></span></h1>\n",
    "<div class=\"toc\"><ul class=\"toc-item\"><li><span><a href=\"#Importing-essential-libraries\" data-toc-modified-id=\"Importing-essential-libraries-1\"><span class=\"toc-item-num\">1&nbsp;&nbsp;</span>Importing essential libraries</a></span></li><li><span><a href=\"#Data-Preparation\" data-toc-modified-id=\"Data-Preparation-2\"><span class=\"toc-item-num\">2&nbsp;&nbsp;</span>Data Preparation</a></span><ul class=\"toc-item\"><li><span><a href=\"#Loading-the-dataset\" data-toc-modified-id=\"Loading-the-dataset-2.1\"><span class=\"toc-item-num\">2.1&nbsp;&nbsp;</span>Loading the dataset</a></span></li><li><span><a href=\"#Checking-the-number-of-features-and-data-in-the-data-set\" data-toc-modified-id=\"Checking-the-number-of-features-and-data-in-the-data-set-2.2\"><span class=\"toc-item-num\">2.2&nbsp;&nbsp;</span>Checking the number of features and data in the data set</a></span></li><li><span><a href=\"#Expanding-the-column-to-display-all-columns\" data-toc-modified-id=\"Expanding-the-column-to-display-all-columns-2.3\"><span class=\"toc-item-num\">2.3&nbsp;&nbsp;</span>Expanding the column to display all columns</a></span></li><li><span><a href=\"#Viewing-the-dataset\" data-toc-modified-id=\"Viewing-the-dataset-2.4\"><span class=\"toc-item-num\">2.4&nbsp;&nbsp;</span>Viewing the dataset</a></span></li><li><span><a href=\"#Splitting-data-into-Categorical-&amp;-Numerical\" data-toc-modified-id=\"Splitting-data-into-Categorical-&amp;-Numerical-2.5\"><span class=\"toc-item-num\">2.5&nbsp;&nbsp;</span>Splitting data into Categorical &amp; Numerical</a></span></li></ul></li><li><span><a href=\"#Data-Cleaning&amp;-Wrangling\" data-toc-modified-id=\"Data-Cleaning&amp;-Wrangling-3\"><span class=\"toc-item-num\">3&nbsp;&nbsp;</span>Data Cleaning&amp; Wrangling</a></span><ul class=\"toc-item\"><li><span><a href=\"#Finding-missing-values\" data-toc-modified-id=\"Finding-missing-values-3.1\"><span class=\"toc-item-num\">3.1&nbsp;&nbsp;</span>Finding missing values</a></span></li><li><span><a href=\"#Percentage-of-missing-value-in-each-features\" data-toc-modified-id=\"Percentage-of-missing-value-in-each-features-3.2\"><span class=\"toc-item-num\">3.2&nbsp;&nbsp;</span>Percentage of missing value in each features</a></span></li><li><span><a href=\"#Imputation-(Dealing-with-missing-values)\" data-toc-modified-id=\"Imputation-(Dealing-with-missing-values)-3.3\"><span class=\"toc-item-num\">3.3&nbsp;&nbsp;</span>Imputation (Dealing with missing values)</a></span></li></ul></li><li><span><a href=\"#Exploratory-Data-Analysis\" data-toc-modified-id=\"Exploratory-Data-Analysis-4\"><span class=\"toc-item-num\">4&nbsp;&nbsp;</span>Exploratory Data Analysis</a></span><ul class=\"toc-item\"><li><span><a href=\"#Correlation\" data-toc-modified-id=\"Correlation-4.1\"><span class=\"toc-item-num\">4.1&nbsp;&nbsp;</span>Correlation</a></span></li><li><span><a href=\"#Corr-heatmap-for-visualization\" data-toc-modified-id=\"Corr-heatmap-for-visualization-4.2\"><span class=\"toc-item-num\">4.2&nbsp;&nbsp;</span>Corr heatmap for visualization</a></span></li><li><span><a href=\"#Column-name-display\" data-toc-modified-id=\"Column-name-display-4.3\"><span class=\"toc-item-num\">4.3&nbsp;&nbsp;</span>Column name display</a></span></li><li><span><a href=\"#Outlier-detection&amp;treatment\" data-toc-modified-id=\"Outlier-detection&amp;treatment-4.4\"><span class=\"toc-item-num\">4.4&nbsp;&nbsp;</span>Outlier detection&amp;treatment</a></span></li></ul></li><li><span><a href=\"#Feature-selection\" data-toc-modified-id=\"Feature-selection-5\"><span class=\"toc-item-num\">5&nbsp;&nbsp;</span>Feature selection</a></span></li></ul></div>"
   ]
  },
  {
   "cell_type": "markdown",
   "id": "5805e13e",
   "metadata": {},
   "source": [
    "### Importing essential libraries"
   ]
  },
  {
   "cell_type": "code",
   "execution_count": 148,
   "id": "b6466d6b",
   "metadata": {
    "ExecuteTime": {
     "end_time": "2022-07-14T12:53:20.280108Z",
     "start_time": "2022-07-14T12:53:20.264474Z"
    }
   },
   "outputs": [],
   "source": [
    "import pandas as pd\n",
    "import numpy as np\n",
    "from scipy import stats\n",
    "import seaborn as sns\n",
    "import matplotlib.pyplot as plt\n",
    "%matplotlib inline\n",
    "\n",
    "from pylab import rcParams\n",
    "rcParams[\"figure.figsize\"] = 25,10"
   ]
  },
  {
   "cell_type": "markdown",
   "id": "3fcf46bc",
   "metadata": {},
   "source": [
    "### Data Preparation"
   ]
  },
  {
   "cell_type": "markdown",
   "id": "f745a01e",
   "metadata": {},
   "source": [
    "#### Loading the dataset"
   ]
  },
  {
   "cell_type": "code",
   "execution_count": 149,
   "id": "09b31619",
   "metadata": {
    "ExecuteTime": {
     "end_time": "2022-07-14T12:53:21.112723Z",
     "start_time": "2022-07-14T12:53:20.282230Z"
    }
   },
   "outputs": [],
   "source": [
    "df = pd.read_excel(\"Dataset Heart Risk.xlsx\")"
   ]
  },
  {
   "cell_type": "markdown",
   "id": "91acc593",
   "metadata": {},
   "source": [
    "#### Checking the number of features and data in the data set"
   ]
  },
  {
   "cell_type": "code",
   "execution_count": 150,
   "id": "1351b6f9",
   "metadata": {
    "ExecuteTime": {
     "end_time": "2022-07-14T12:53:21.128356Z",
     "start_time": "2022-07-14T12:53:21.116645Z"
    }
   },
   "outputs": [
    {
     "data": {
      "text/plain": [
       "(3698, 17)"
      ]
     },
     "execution_count": 150,
     "metadata": {},
     "output_type": "execute_result"
    }
   ],
   "source": [
    "df.shape"
   ]
  },
  {
   "cell_type": "markdown",
   "id": "bf143780",
   "metadata": {},
   "source": []
  },
  {
   "cell_type": "markdown",
   "id": "aece12d1",
   "metadata": {},
   "source": [
    "#### Expanding the column to display all columns"
   ]
  },
  {
   "cell_type": "code",
   "execution_count": 151,
   "id": "550c33d2",
   "metadata": {
    "ExecuteTime": {
     "end_time": "2022-07-14T12:53:21.141380Z",
     "start_time": "2022-07-14T12:53:21.129374Z"
    }
   },
   "outputs": [],
   "source": [
    "\n",
    "pd.set_option(\"display.max_columns\",17)"
   ]
  },
  {
   "cell_type": "markdown",
   "id": "95f891d7",
   "metadata": {},
   "source": [
    "#### Viewing the dataset"
   ]
  },
  {
   "cell_type": "code",
   "execution_count": 152,
   "id": "9e8bf56e",
   "metadata": {
    "ExecuteTime": {
     "end_time": "2022-07-14T12:53:21.189410Z",
     "start_time": "2022-07-14T12:53:21.141380Z"
    }
   },
   "outputs": [
    {
     "data": {
      "text/html": [
       "<div>\n",
       "<style scoped>\n",
       "    .dataframe tbody tr th:only-of-type {\n",
       "        vertical-align: middle;\n",
       "    }\n",
       "\n",
       "    .dataframe tbody tr th {\n",
       "        vertical-align: top;\n",
       "    }\n",
       "\n",
       "    .dataframe thead th {\n",
       "        text-align: right;\n",
       "    }\n",
       "</style>\n",
       "<table border=\"1\" class=\"dataframe\">\n",
       "  <thead>\n",
       "    <tr style=\"text-align: right;\">\n",
       "      <th></th>\n",
       "      <th>P_ID</th>\n",
       "      <th>male</th>\n",
       "      <th>age</th>\n",
       "      <th>education</th>\n",
       "      <th>currentSmoker</th>\n",
       "      <th>cigsPerDay</th>\n",
       "      <th>BPMeds</th>\n",
       "      <th>prevalentStroke</th>\n",
       "      <th>prevalentHyp</th>\n",
       "      <th>diabetes</th>\n",
       "      <th>totChol</th>\n",
       "      <th>sysBP</th>\n",
       "      <th>diaBP</th>\n",
       "      <th>BMI</th>\n",
       "      <th>heartRate</th>\n",
       "      <th>glucose</th>\n",
       "      <th>HeartRisk</th>\n",
       "    </tr>\n",
       "  </thead>\n",
       "  <tbody>\n",
       "    <tr>\n",
       "      <th>0</th>\n",
       "      <td>1211</td>\n",
       "      <td>1</td>\n",
       "      <td>39</td>\n",
       "      <td>4.0</td>\n",
       "      <td>0</td>\n",
       "      <td>0.0</td>\n",
       "      <td>0.0</td>\n",
       "      <td>0</td>\n",
       "      <td>0</td>\n",
       "      <td>0</td>\n",
       "      <td>195.0</td>\n",
       "      <td>106.0</td>\n",
       "      <td>70.0</td>\n",
       "      <td>26.97</td>\n",
       "      <td>80.0</td>\n",
       "      <td>77.0</td>\n",
       "      <td>0</td>\n",
       "    </tr>\n",
       "    <tr>\n",
       "      <th>1</th>\n",
       "      <td>1212</td>\n",
       "      <td>0</td>\n",
       "      <td>46</td>\n",
       "      <td>2.0</td>\n",
       "      <td>0</td>\n",
       "      <td>0.0</td>\n",
       "      <td>0.0</td>\n",
       "      <td>0</td>\n",
       "      <td>0</td>\n",
       "      <td>0</td>\n",
       "      <td>250.0</td>\n",
       "      <td>121.0</td>\n",
       "      <td>81.0</td>\n",
       "      <td>28.73</td>\n",
       "      <td>95.0</td>\n",
       "      <td>76.0</td>\n",
       "      <td>0</td>\n",
       "    </tr>\n",
       "    <tr>\n",
       "      <th>2</th>\n",
       "      <td>1213</td>\n",
       "      <td>1</td>\n",
       "      <td>48</td>\n",
       "      <td>1.0</td>\n",
       "      <td>1</td>\n",
       "      <td>20.0</td>\n",
       "      <td>0.0</td>\n",
       "      <td>0</td>\n",
       "      <td>0</td>\n",
       "      <td>0</td>\n",
       "      <td>245.0</td>\n",
       "      <td>127.5</td>\n",
       "      <td>80.0</td>\n",
       "      <td>25.34</td>\n",
       "      <td>75.0</td>\n",
       "      <td>70.0</td>\n",
       "      <td>0</td>\n",
       "    </tr>\n",
       "    <tr>\n",
       "      <th>3</th>\n",
       "      <td>1214</td>\n",
       "      <td>0</td>\n",
       "      <td>61</td>\n",
       "      <td>3.0</td>\n",
       "      <td>1</td>\n",
       "      <td>30.0</td>\n",
       "      <td>0.0</td>\n",
       "      <td>0</td>\n",
       "      <td>1</td>\n",
       "      <td>0</td>\n",
       "      <td>225.0</td>\n",
       "      <td>150.0</td>\n",
       "      <td>95.0</td>\n",
       "      <td>28.58</td>\n",
       "      <td>65.0</td>\n",
       "      <td>103.0</td>\n",
       "      <td>1</td>\n",
       "    </tr>\n",
       "    <tr>\n",
       "      <th>4</th>\n",
       "      <td>1215</td>\n",
       "      <td>0</td>\n",
       "      <td>46</td>\n",
       "      <td>3.0</td>\n",
       "      <td>1</td>\n",
       "      <td>23.0</td>\n",
       "      <td>0.0</td>\n",
       "      <td>0</td>\n",
       "      <td>0</td>\n",
       "      <td>0</td>\n",
       "      <td>285.0</td>\n",
       "      <td>130.0</td>\n",
       "      <td>84.0</td>\n",
       "      <td>23.10</td>\n",
       "      <td>85.0</td>\n",
       "      <td>85.0</td>\n",
       "      <td>0</td>\n",
       "    </tr>\n",
       "    <tr>\n",
       "      <th>...</th>\n",
       "      <td>...</td>\n",
       "      <td>...</td>\n",
       "      <td>...</td>\n",
       "      <td>...</td>\n",
       "      <td>...</td>\n",
       "      <td>...</td>\n",
       "      <td>...</td>\n",
       "      <td>...</td>\n",
       "      <td>...</td>\n",
       "      <td>...</td>\n",
       "      <td>...</td>\n",
       "      <td>...</td>\n",
       "      <td>...</td>\n",
       "      <td>...</td>\n",
       "      <td>...</td>\n",
       "      <td>...</td>\n",
       "      <td>...</td>\n",
       "    </tr>\n",
       "    <tr>\n",
       "      <th>3693</th>\n",
       "      <td>4904</td>\n",
       "      <td>1</td>\n",
       "      <td>52</td>\n",
       "      <td>3.0</td>\n",
       "      <td>0</td>\n",
       "      <td>0.0</td>\n",
       "      <td>0.0</td>\n",
       "      <td>0</td>\n",
       "      <td>0</td>\n",
       "      <td>0</td>\n",
       "      <td>225.0</td>\n",
       "      <td>119.0</td>\n",
       "      <td>65.0</td>\n",
       "      <td>26.89</td>\n",
       "      <td>62.0</td>\n",
       "      <td>74.0</td>\n",
       "      <td>0</td>\n",
       "    </tr>\n",
       "    <tr>\n",
       "      <th>3694</th>\n",
       "      <td>4905</td>\n",
       "      <td>0</td>\n",
       "      <td>63</td>\n",
       "      <td>1.0</td>\n",
       "      <td>0</td>\n",
       "      <td>0.0</td>\n",
       "      <td>0.0</td>\n",
       "      <td>0</td>\n",
       "      <td>0</td>\n",
       "      <td>0</td>\n",
       "      <td>235.0</td>\n",
       "      <td>125.0</td>\n",
       "      <td>79.0</td>\n",
       "      <td>24.38</td>\n",
       "      <td>96.0</td>\n",
       "      <td>83.0</td>\n",
       "      <td>0</td>\n",
       "    </tr>\n",
       "    <tr>\n",
       "      <th>3695</th>\n",
       "      <td>4906</td>\n",
       "      <td>1</td>\n",
       "      <td>43</td>\n",
       "      <td>3.0</td>\n",
       "      <td>1</td>\n",
       "      <td>20.0</td>\n",
       "      <td>0.0</td>\n",
       "      <td>0</td>\n",
       "      <td>0</td>\n",
       "      <td>0</td>\n",
       "      <td>240.0</td>\n",
       "      <td>147.5</td>\n",
       "      <td>88.0</td>\n",
       "      <td>25.60</td>\n",
       "      <td>65.0</td>\n",
       "      <td>113.0</td>\n",
       "      <td>0</td>\n",
       "    </tr>\n",
       "    <tr>\n",
       "      <th>3696</th>\n",
       "      <td>4907</td>\n",
       "      <td>1</td>\n",
       "      <td>41</td>\n",
       "      <td>2.0</td>\n",
       "      <td>1</td>\n",
       "      <td>40.0</td>\n",
       "      <td>0.0</td>\n",
       "      <td>0</td>\n",
       "      <td>0</td>\n",
       "      <td>0</td>\n",
       "      <td>242.0</td>\n",
       "      <td>124.5</td>\n",
       "      <td>86.5</td>\n",
       "      <td>28.80</td>\n",
       "      <td>87.0</td>\n",
       "      <td>67.0</td>\n",
       "      <td>0</td>\n",
       "    </tr>\n",
       "    <tr>\n",
       "      <th>3697</th>\n",
       "      <td>4908</td>\n",
       "      <td>0</td>\n",
       "      <td>34</td>\n",
       "      <td>2.0</td>\n",
       "      <td>1</td>\n",
       "      <td>20.0</td>\n",
       "      <td>0.0</td>\n",
       "      <td>0</td>\n",
       "      <td>0</td>\n",
       "      <td>0</td>\n",
       "      <td>180.0</td>\n",
       "      <td>111.0</td>\n",
       "      <td>56.0</td>\n",
       "      <td>21.51</td>\n",
       "      <td>91.0</td>\n",
       "      <td>78.0</td>\n",
       "      <td>0</td>\n",
       "    </tr>\n",
       "  </tbody>\n",
       "</table>\n",
       "<p>3698 rows × 17 columns</p>\n",
       "</div>"
      ],
      "text/plain": [
       "      P_ID  male  age  education  currentSmoker  cigsPerDay  BPMeds  \\\n",
       "0     1211     1   39        4.0              0         0.0     0.0   \n",
       "1     1212     0   46        2.0              0         0.0     0.0   \n",
       "2     1213     1   48        1.0              1        20.0     0.0   \n",
       "3     1214     0   61        3.0              1        30.0     0.0   \n",
       "4     1215     0   46        3.0              1        23.0     0.0   \n",
       "...    ...   ...  ...        ...            ...         ...     ...   \n",
       "3693  4904     1   52        3.0              0         0.0     0.0   \n",
       "3694  4905     0   63        1.0              0         0.0     0.0   \n",
       "3695  4906     1   43        3.0              1        20.0     0.0   \n",
       "3696  4907     1   41        2.0              1        40.0     0.0   \n",
       "3697  4908     0   34        2.0              1        20.0     0.0   \n",
       "\n",
       "      prevalentStroke  prevalentHyp  diabetes  totChol  sysBP  diaBP    BMI  \\\n",
       "0                   0             0         0    195.0  106.0   70.0  26.97   \n",
       "1                   0             0         0    250.0  121.0   81.0  28.73   \n",
       "2                   0             0         0    245.0  127.5   80.0  25.34   \n",
       "3                   0             1         0    225.0  150.0   95.0  28.58   \n",
       "4                   0             0         0    285.0  130.0   84.0  23.10   \n",
       "...               ...           ...       ...      ...    ...    ...    ...   \n",
       "3693                0             0         0    225.0  119.0   65.0  26.89   \n",
       "3694                0             0         0    235.0  125.0   79.0  24.38   \n",
       "3695                0             0         0    240.0  147.5   88.0  25.60   \n",
       "3696                0             0         0    242.0  124.5   86.5  28.80   \n",
       "3697                0             0         0    180.0  111.0   56.0  21.51   \n",
       "\n",
       "      heartRate  glucose  HeartRisk  \n",
       "0          80.0     77.0          0  \n",
       "1          95.0     76.0          0  \n",
       "2          75.0     70.0          0  \n",
       "3          65.0    103.0          1  \n",
       "4          85.0     85.0          0  \n",
       "...         ...      ...        ...  \n",
       "3693       62.0     74.0          0  \n",
       "3694       96.0     83.0          0  \n",
       "3695       65.0    113.0          0  \n",
       "3696       87.0     67.0          0  \n",
       "3697       91.0     78.0          0  \n",
       "\n",
       "[3698 rows x 17 columns]"
      ]
     },
     "execution_count": 152,
     "metadata": {},
     "output_type": "execute_result"
    }
   ],
   "source": [
    "df"
   ]
  },
  {
   "cell_type": "markdown",
   "id": "ee0c4627",
   "metadata": {},
   "source": [
    "#### Splitting data into Categorical & Numerical"
   ]
  },
  {
   "cell_type": "code",
   "execution_count": 153,
   "id": "44a1bc2f",
   "metadata": {
    "ExecuteTime": {
     "end_time": "2022-07-14T12:53:21.205407Z",
     "start_time": "2022-07-14T12:53:21.189410Z"
    }
   },
   "outputs": [],
   "source": [
    "df_cat = pd.DataFrame()\n",
    "df_num = pd.DataFrame()"
   ]
  },
  {
   "cell_type": "code",
   "execution_count": 154,
   "id": "76cc94aa",
   "metadata": {
    "ExecuteTime": {
     "end_time": "2022-07-14T12:53:21.237380Z",
     "start_time": "2022-07-14T12:53:21.205407Z"
    }
   },
   "outputs": [],
   "source": [
    "for y in df.columns:\n",
    "    if df[y].dtype == object:\n",
    "        df_cat[y] = df[y]\n",
    "    else:\n",
    "        df_num[y] = df[y]"
   ]
  },
  {
   "cell_type": "code",
   "execution_count": 159,
   "id": "5f541a81",
   "metadata": {
    "ExecuteTime": {
     "end_time": "2022-07-14T12:53:58.240280Z",
     "start_time": "2022-07-14T12:53:58.224349Z"
    }
   },
   "outputs": [],
   "source": [
    "Y = df_num[\"HeartRisk\"]\n",
    "df_num.drop(columns=[\"HeartRisk\"],axis=1,inplace=True)"
   ]
  },
  {
   "cell_type": "markdown",
   "id": "a06b3bea",
   "metadata": {},
   "source": [
    "### Data Cleaning& Wrangling"
   ]
  },
  {
   "cell_type": "markdown",
   "id": "636a5284",
   "metadata": {},
   "source": [
    "#### Finding missing values"
   ]
  },
  {
   "cell_type": "code",
   "execution_count": 160,
   "id": "894e95fd",
   "metadata": {
    "ExecuteTime": {
     "end_time": "2022-07-14T12:54:03.680602Z",
     "start_time": "2022-07-14T12:54:03.672600Z"
    }
   },
   "outputs": [],
   "source": [
    "df_missing = pd.DataFrame()"
   ]
  },
  {
   "cell_type": "code",
   "execution_count": 161,
   "id": "a5cffb8c",
   "metadata": {
    "ExecuteTime": {
     "end_time": "2022-07-14T12:54:03.946736Z",
     "start_time": "2022-07-14T12:54:03.938902Z"
    }
   },
   "outputs": [],
   "source": [
    "# df['Ptid'].isnull().sum()/df.shape[0]"
   ]
  },
  {
   "cell_type": "markdown",
   "id": "cb6ebde8",
   "metadata": {},
   "source": [
    "####  Percentage of missing value in each features"
   ]
  },
  {
   "cell_type": "code",
   "execution_count": 162,
   "id": "e23581d4",
   "metadata": {
    "ExecuteTime": {
     "end_time": "2022-07-14T12:54:04.399830Z",
     "start_time": "2022-07-14T12:54:04.311983Z"
    }
   },
   "outputs": [
    {
     "ename": "KeyError",
     "evalue": "'HeartRisk'",
     "output_type": "error",
     "traceback": [
      "\u001b[1;31m---------------------------------------------------------------------------\u001b[0m",
      "\u001b[1;31mKeyError\u001b[0m                                  Traceback (most recent call last)",
      "\u001b[1;32mC:\\ProgramData\\Anaconda3\\lib\\site-packages\\pandas\\core\\indexes\\base.py\u001b[0m in \u001b[0;36mget_loc\u001b[1;34m(self, key, method, tolerance)\u001b[0m\n\u001b[0;32m   3360\u001b[0m             \u001b[1;32mtry\u001b[0m\u001b[1;33m:\u001b[0m\u001b[1;33m\u001b[0m\u001b[1;33m\u001b[0m\u001b[0m\n\u001b[1;32m-> 3361\u001b[1;33m                 \u001b[1;32mreturn\u001b[0m \u001b[0mself\u001b[0m\u001b[1;33m.\u001b[0m\u001b[0m_engine\u001b[0m\u001b[1;33m.\u001b[0m\u001b[0mget_loc\u001b[0m\u001b[1;33m(\u001b[0m\u001b[0mcasted_key\u001b[0m\u001b[1;33m)\u001b[0m\u001b[1;33m\u001b[0m\u001b[1;33m\u001b[0m\u001b[0m\n\u001b[0m\u001b[0;32m   3362\u001b[0m             \u001b[1;32mexcept\u001b[0m \u001b[0mKeyError\u001b[0m \u001b[1;32mas\u001b[0m \u001b[0merr\u001b[0m\u001b[1;33m:\u001b[0m\u001b[1;33m\u001b[0m\u001b[1;33m\u001b[0m\u001b[0m\n",
      "\u001b[1;32mC:\\ProgramData\\Anaconda3\\lib\\site-packages\\pandas\\_libs\\index.pyx\u001b[0m in \u001b[0;36mpandas._libs.index.IndexEngine.get_loc\u001b[1;34m()\u001b[0m\n",
      "\u001b[1;32mC:\\ProgramData\\Anaconda3\\lib\\site-packages\\pandas\\_libs\\index.pyx\u001b[0m in \u001b[0;36mpandas._libs.index.IndexEngine.get_loc\u001b[1;34m()\u001b[0m\n",
      "\u001b[1;32mpandas\\_libs\\hashtable_class_helper.pxi\u001b[0m in \u001b[0;36mpandas._libs.hashtable.PyObjectHashTable.get_item\u001b[1;34m()\u001b[0m\n",
      "\u001b[1;32mpandas\\_libs\\hashtable_class_helper.pxi\u001b[0m in \u001b[0;36mpandas._libs.hashtable.PyObjectHashTable.get_item\u001b[1;34m()\u001b[0m\n",
      "\u001b[1;31mKeyError\u001b[0m: 'HeartRisk'",
      "\nThe above exception was the direct cause of the following exception:\n",
      "\u001b[1;31mKeyError\u001b[0m                                  Traceback (most recent call last)",
      "\u001b[1;32m~\\AppData\\Local\\Temp/ipykernel_6840/847748735.py\u001b[0m in \u001b[0;36m<module>\u001b[1;34m\u001b[0m\n\u001b[0;32m      1\u001b[0m \u001b[1;32mfor\u001b[0m \u001b[0my\u001b[0m \u001b[1;32min\u001b[0m \u001b[0mdf\u001b[0m\u001b[1;33m.\u001b[0m\u001b[0mcolumns\u001b[0m\u001b[1;33m:\u001b[0m\u001b[1;33m\u001b[0m\u001b[1;33m\u001b[0m\u001b[0m\n\u001b[0;32m      2\u001b[0m \u001b[1;31m#     print(y)\u001b[0m\u001b[1;33m\u001b[0m\u001b[1;33m\u001b[0m\u001b[0m\n\u001b[1;32m----> 3\u001b[1;33m     \u001b[0mmis\u001b[0m \u001b[1;33m=\u001b[0m \u001b[1;33m(\u001b[0m\u001b[0mdf_num\u001b[0m\u001b[1;33m[\u001b[0m\u001b[0my\u001b[0m\u001b[1;33m]\u001b[0m\u001b[1;33m.\u001b[0m\u001b[0misnull\u001b[0m\u001b[1;33m(\u001b[0m\u001b[1;33m)\u001b[0m\u001b[1;33m.\u001b[0m\u001b[0msum\u001b[0m\u001b[1;33m(\u001b[0m\u001b[1;33m)\u001b[0m\u001b[1;33m/\u001b[0m\u001b[0mdf_num\u001b[0m\u001b[1;33m.\u001b[0m\u001b[0mshape\u001b[0m\u001b[1;33m[\u001b[0m\u001b[1;36m0\u001b[0m\u001b[1;33m]\u001b[0m\u001b[1;33m)\u001b[0m\u001b[1;33m*\u001b[0m\u001b[1;36m100\u001b[0m\u001b[1;33m\u001b[0m\u001b[1;33m\u001b[0m\u001b[0m\n\u001b[0m\u001b[0;32m      4\u001b[0m     \u001b[0mdata\u001b[0m \u001b[1;33m=\u001b[0m \u001b[1;33m{\u001b[0m\u001b[1;34m'Column'\u001b[0m\u001b[1;33m:\u001b[0m\u001b[0my\u001b[0m\u001b[1;33m,\u001b[0m\u001b[1;34m'Missing %'\u001b[0m\u001b[1;33m:\u001b[0m \u001b[0mmis\u001b[0m\u001b[1;33m}\u001b[0m\u001b[1;33m\u001b[0m\u001b[1;33m\u001b[0m\u001b[0m\n\u001b[0;32m      5\u001b[0m     \u001b[0mdf_missing\u001b[0m \u001b[1;33m=\u001b[0m \u001b[0mdf_missing\u001b[0m\u001b[1;33m.\u001b[0m\u001b[0mappend\u001b[0m\u001b[1;33m(\u001b[0m\u001b[0mdata\u001b[0m\u001b[1;33m,\u001b[0m\u001b[0mignore_index\u001b[0m\u001b[1;33m=\u001b[0m\u001b[1;32mTrue\u001b[0m\u001b[1;33m)\u001b[0m\u001b[1;33m\u001b[0m\u001b[1;33m\u001b[0m\u001b[0m\n",
      "\u001b[1;32mC:\\ProgramData\\Anaconda3\\lib\\site-packages\\pandas\\core\\frame.py\u001b[0m in \u001b[0;36m__getitem__\u001b[1;34m(self, key)\u001b[0m\n\u001b[0;32m   3456\u001b[0m             \u001b[1;32mif\u001b[0m \u001b[0mself\u001b[0m\u001b[1;33m.\u001b[0m\u001b[0mcolumns\u001b[0m\u001b[1;33m.\u001b[0m\u001b[0mnlevels\u001b[0m \u001b[1;33m>\u001b[0m \u001b[1;36m1\u001b[0m\u001b[1;33m:\u001b[0m\u001b[1;33m\u001b[0m\u001b[1;33m\u001b[0m\u001b[0m\n\u001b[0;32m   3457\u001b[0m                 \u001b[1;32mreturn\u001b[0m \u001b[0mself\u001b[0m\u001b[1;33m.\u001b[0m\u001b[0m_getitem_multilevel\u001b[0m\u001b[1;33m(\u001b[0m\u001b[0mkey\u001b[0m\u001b[1;33m)\u001b[0m\u001b[1;33m\u001b[0m\u001b[1;33m\u001b[0m\u001b[0m\n\u001b[1;32m-> 3458\u001b[1;33m             \u001b[0mindexer\u001b[0m \u001b[1;33m=\u001b[0m \u001b[0mself\u001b[0m\u001b[1;33m.\u001b[0m\u001b[0mcolumns\u001b[0m\u001b[1;33m.\u001b[0m\u001b[0mget_loc\u001b[0m\u001b[1;33m(\u001b[0m\u001b[0mkey\u001b[0m\u001b[1;33m)\u001b[0m\u001b[1;33m\u001b[0m\u001b[1;33m\u001b[0m\u001b[0m\n\u001b[0m\u001b[0;32m   3459\u001b[0m             \u001b[1;32mif\u001b[0m \u001b[0mis_integer\u001b[0m\u001b[1;33m(\u001b[0m\u001b[0mindexer\u001b[0m\u001b[1;33m)\u001b[0m\u001b[1;33m:\u001b[0m\u001b[1;33m\u001b[0m\u001b[1;33m\u001b[0m\u001b[0m\n\u001b[0;32m   3460\u001b[0m                 \u001b[0mindexer\u001b[0m \u001b[1;33m=\u001b[0m \u001b[1;33m[\u001b[0m\u001b[0mindexer\u001b[0m\u001b[1;33m]\u001b[0m\u001b[1;33m\u001b[0m\u001b[1;33m\u001b[0m\u001b[0m\n",
      "\u001b[1;32mC:\\ProgramData\\Anaconda3\\lib\\site-packages\\pandas\\core\\indexes\\base.py\u001b[0m in \u001b[0;36mget_loc\u001b[1;34m(self, key, method, tolerance)\u001b[0m\n\u001b[0;32m   3361\u001b[0m                 \u001b[1;32mreturn\u001b[0m \u001b[0mself\u001b[0m\u001b[1;33m.\u001b[0m\u001b[0m_engine\u001b[0m\u001b[1;33m.\u001b[0m\u001b[0mget_loc\u001b[0m\u001b[1;33m(\u001b[0m\u001b[0mcasted_key\u001b[0m\u001b[1;33m)\u001b[0m\u001b[1;33m\u001b[0m\u001b[1;33m\u001b[0m\u001b[0m\n\u001b[0;32m   3362\u001b[0m             \u001b[1;32mexcept\u001b[0m \u001b[0mKeyError\u001b[0m \u001b[1;32mas\u001b[0m \u001b[0merr\u001b[0m\u001b[1;33m:\u001b[0m\u001b[1;33m\u001b[0m\u001b[1;33m\u001b[0m\u001b[0m\n\u001b[1;32m-> 3363\u001b[1;33m                 \u001b[1;32mraise\u001b[0m \u001b[0mKeyError\u001b[0m\u001b[1;33m(\u001b[0m\u001b[0mkey\u001b[0m\u001b[1;33m)\u001b[0m \u001b[1;32mfrom\u001b[0m \u001b[0merr\u001b[0m\u001b[1;33m\u001b[0m\u001b[1;33m\u001b[0m\u001b[0m\n\u001b[0m\u001b[0;32m   3364\u001b[0m \u001b[1;33m\u001b[0m\u001b[0m\n\u001b[0;32m   3365\u001b[0m         \u001b[1;32mif\u001b[0m \u001b[0mis_scalar\u001b[0m\u001b[1;33m(\u001b[0m\u001b[0mkey\u001b[0m\u001b[1;33m)\u001b[0m \u001b[1;32mand\u001b[0m \u001b[0misna\u001b[0m\u001b[1;33m(\u001b[0m\u001b[0mkey\u001b[0m\u001b[1;33m)\u001b[0m \u001b[1;32mand\u001b[0m \u001b[1;32mnot\u001b[0m \u001b[0mself\u001b[0m\u001b[1;33m.\u001b[0m\u001b[0mhasnans\u001b[0m\u001b[1;33m:\u001b[0m\u001b[1;33m\u001b[0m\u001b[1;33m\u001b[0m\u001b[0m\n",
      "\u001b[1;31mKeyError\u001b[0m: 'HeartRisk'"
     ]
    }
   ],
   "source": [
    "for y in df.columns:\n",
    "#     print(y)\n",
    "    mis = (df_num[y].isnull().sum()/df_num.shape[0])*100\n",
    "    data = {'Column':y,'Missing %': mis}\n",
    "    df_missing = df_missing.append(data,ignore_index=True)\n",
    "\n"
   ]
  },
  {
   "cell_type": "code",
   "execution_count": 163,
   "id": "09ade534",
   "metadata": {
    "ExecuteTime": {
     "end_time": "2022-07-14T12:54:04.493485Z",
     "start_time": "2022-07-14T12:54:04.481484Z"
    }
   },
   "outputs": [
    {
     "data": {
      "text/html": [
       "<div>\n",
       "<style scoped>\n",
       "    .dataframe tbody tr th:only-of-type {\n",
       "        vertical-align: middle;\n",
       "    }\n",
       "\n",
       "    .dataframe tbody tr th {\n",
       "        vertical-align: top;\n",
       "    }\n",
       "\n",
       "    .dataframe thead th {\n",
       "        text-align: right;\n",
       "    }\n",
       "</style>\n",
       "<table border=\"1\" class=\"dataframe\">\n",
       "  <thead>\n",
       "    <tr style=\"text-align: right;\">\n",
       "      <th></th>\n",
       "      <th>Column</th>\n",
       "      <th>Missing %</th>\n",
       "    </tr>\n",
       "  </thead>\n",
       "  <tbody>\n",
       "    <tr>\n",
       "      <th>0</th>\n",
       "      <td>P_ID</td>\n",
       "      <td>0.000000</td>\n",
       "    </tr>\n",
       "    <tr>\n",
       "      <th>1</th>\n",
       "      <td>male</td>\n",
       "      <td>0.000000</td>\n",
       "    </tr>\n",
       "    <tr>\n",
       "      <th>2</th>\n",
       "      <td>age</td>\n",
       "      <td>0.000000</td>\n",
       "    </tr>\n",
       "    <tr>\n",
       "      <th>3</th>\n",
       "      <td>education</td>\n",
       "      <td>2.541915</td>\n",
       "    </tr>\n",
       "    <tr>\n",
       "      <th>4</th>\n",
       "      <td>currentSmoker</td>\n",
       "      <td>0.000000</td>\n",
       "    </tr>\n",
       "    <tr>\n",
       "      <th>5</th>\n",
       "      <td>cigsPerDay</td>\n",
       "      <td>0.676041</td>\n",
       "    </tr>\n",
       "    <tr>\n",
       "      <th>6</th>\n",
       "      <td>BPMeds</td>\n",
       "      <td>1.243916</td>\n",
       "    </tr>\n",
       "    <tr>\n",
       "      <th>7</th>\n",
       "      <td>prevalentStroke</td>\n",
       "      <td>0.000000</td>\n",
       "    </tr>\n",
       "    <tr>\n",
       "      <th>8</th>\n",
       "      <td>prevalentHyp</td>\n",
       "      <td>0.000000</td>\n",
       "    </tr>\n",
       "    <tr>\n",
       "      <th>9</th>\n",
       "      <td>diabetes</td>\n",
       "      <td>0.000000</td>\n",
       "    </tr>\n",
       "    <tr>\n",
       "      <th>10</th>\n",
       "      <td>totChol</td>\n",
       "      <td>1.243916</td>\n",
       "    </tr>\n",
       "    <tr>\n",
       "      <th>11</th>\n",
       "      <td>sysBP</td>\n",
       "      <td>0.000000</td>\n",
       "    </tr>\n",
       "    <tr>\n",
       "      <th>12</th>\n",
       "      <td>diaBP</td>\n",
       "      <td>0.000000</td>\n",
       "    </tr>\n",
       "    <tr>\n",
       "      <th>13</th>\n",
       "      <td>BMI</td>\n",
       "      <td>0.513791</td>\n",
       "    </tr>\n",
       "    <tr>\n",
       "      <th>14</th>\n",
       "      <td>heartRate</td>\n",
       "      <td>0.027042</td>\n",
       "    </tr>\n",
       "    <tr>\n",
       "      <th>15</th>\n",
       "      <td>glucose</td>\n",
       "      <td>9.329367</td>\n",
       "    </tr>\n",
       "  </tbody>\n",
       "</table>\n",
       "</div>"
      ],
      "text/plain": [
       "             Column  Missing %\n",
       "0              P_ID   0.000000\n",
       "1              male   0.000000\n",
       "2               age   0.000000\n",
       "3         education   2.541915\n",
       "4     currentSmoker   0.000000\n",
       "5        cigsPerDay   0.676041\n",
       "6            BPMeds   1.243916\n",
       "7   prevalentStroke   0.000000\n",
       "8      prevalentHyp   0.000000\n",
       "9          diabetes   0.000000\n",
       "10          totChol   1.243916\n",
       "11            sysBP   0.000000\n",
       "12            diaBP   0.000000\n",
       "13              BMI   0.513791\n",
       "14        heartRate   0.027042\n",
       "15          glucose   9.329367"
      ]
     },
     "execution_count": 163,
     "metadata": {},
     "output_type": "execute_result"
    }
   ],
   "source": [
    "df_missing"
   ]
  },
  {
   "cell_type": "markdown",
   "id": "3e45794f",
   "metadata": {},
   "source": [
    "#### Imputation (Dealing with missing values)"
   ]
  },
  {
   "cell_type": "code",
   "execution_count": 164,
   "id": "311658b6",
   "metadata": {
    "ExecuteTime": {
     "end_time": "2022-07-14T12:54:06.404458Z",
     "start_time": "2022-07-14T12:54:06.384562Z"
    }
   },
   "outputs": [],
   "source": [
    "def imputation(df,flag):\n",
    "    if flag == 0:\n",
    "        #numerical data\n",
    "        mean = df.mean()\n",
    "        df.fillna(mean,axis = 0,inplace=True)\n",
    "    else:\n",
    "        # categorial data\n",
    "        mode = stats.mode()\n",
    "        df.fillna(mode,axis=0,inplace =True)"
   ]
  },
  {
   "cell_type": "code",
   "execution_count": 165,
   "id": "a8748452",
   "metadata": {
    "ExecuteTime": {
     "end_time": "2022-07-14T12:54:06.650047Z",
     "start_time": "2022-07-14T12:54:06.634843Z"
    }
   },
   "outputs": [],
   "source": [
    "imputation(df_num,0)"
   ]
  },
  {
   "cell_type": "code",
   "execution_count": 166,
   "id": "ed36205b",
   "metadata": {
    "ExecuteTime": {
     "end_time": "2022-07-14T12:54:08.779918Z",
     "start_time": "2022-07-14T12:54:08.767282Z"
    }
   },
   "outputs": [
    {
     "data": {
      "text/plain": [
       "P_ID               0\n",
       "male               0\n",
       "age                0\n",
       "education          0\n",
       "currentSmoker      0\n",
       "cigsPerDay         0\n",
       "BPMeds             0\n",
       "prevalentStroke    0\n",
       "prevalentHyp       0\n",
       "diabetes           0\n",
       "totChol            0\n",
       "sysBP              0\n",
       "diaBP              0\n",
       "BMI                0\n",
       "heartRate          0\n",
       "glucose            0\n",
       "dtype: int64"
      ]
     },
     "execution_count": 166,
     "metadata": {},
     "output_type": "execute_result"
    }
   ],
   "source": [
    "df_num.isnull().sum()"
   ]
  },
  {
   "cell_type": "markdown",
   "id": "6345800c",
   "metadata": {},
   "source": [
    "### Exploratory Data Analysis"
   ]
  },
  {
   "cell_type": "markdown",
   "id": "842df231",
   "metadata": {},
   "source": [
    "#### Correlation"
   ]
  },
  {
   "cell_type": "code",
   "execution_count": 167,
   "id": "d300c548",
   "metadata": {
    "ExecuteTime": {
     "end_time": "2022-07-14T12:54:12.053299Z",
     "start_time": "2022-07-14T12:54:12.014315Z"
    }
   },
   "outputs": [
    {
     "data": {
      "text/html": [
       "<div>\n",
       "<style scoped>\n",
       "    .dataframe tbody tr th:only-of-type {\n",
       "        vertical-align: middle;\n",
       "    }\n",
       "\n",
       "    .dataframe tbody tr th {\n",
       "        vertical-align: top;\n",
       "    }\n",
       "\n",
       "    .dataframe thead th {\n",
       "        text-align: right;\n",
       "    }\n",
       "</style>\n",
       "<table border=\"1\" class=\"dataframe\">\n",
       "  <thead>\n",
       "    <tr style=\"text-align: right;\">\n",
       "      <th></th>\n",
       "      <th>P_ID</th>\n",
       "      <th>male</th>\n",
       "      <th>age</th>\n",
       "      <th>education</th>\n",
       "      <th>currentSmoker</th>\n",
       "      <th>cigsPerDay</th>\n",
       "      <th>BPMeds</th>\n",
       "      <th>prevalentStroke</th>\n",
       "      <th>prevalentHyp</th>\n",
       "      <th>diabetes</th>\n",
       "      <th>totChol</th>\n",
       "      <th>sysBP</th>\n",
       "      <th>diaBP</th>\n",
       "      <th>BMI</th>\n",
       "      <th>heartRate</th>\n",
       "      <th>glucose</th>\n",
       "    </tr>\n",
       "  </thead>\n",
       "  <tbody>\n",
       "    <tr>\n",
       "      <th>P_ID</th>\n",
       "      <td>1.000000</td>\n",
       "      <td>0.012634</td>\n",
       "      <td>0.006461</td>\n",
       "      <td>-0.003029</td>\n",
       "      <td>0.023475</td>\n",
       "      <td>0.006929</td>\n",
       "      <td>0.022458</td>\n",
       "      <td>0.021694</td>\n",
       "      <td>0.010723</td>\n",
       "      <td>0.012051</td>\n",
       "      <td>0.000526</td>\n",
       "      <td>0.002750</td>\n",
       "      <td>0.008052</td>\n",
       "      <td>0.008100</td>\n",
       "      <td>0.021931</td>\n",
       "      <td>-0.000227</td>\n",
       "    </tr>\n",
       "    <tr>\n",
       "      <th>male</th>\n",
       "      <td>0.012634</td>\n",
       "      <td>1.000000</td>\n",
       "      <td>-0.032785</td>\n",
       "      <td>0.016387</td>\n",
       "      <td>0.198827</td>\n",
       "      <td>0.317426</td>\n",
       "      <td>-0.049999</td>\n",
       "      <td>-0.003783</td>\n",
       "      <td>0.008885</td>\n",
       "      <td>0.021330</td>\n",
       "      <td>-0.070436</td>\n",
       "      <td>-0.037775</td>\n",
       "      <td>0.063206</td>\n",
       "      <td>0.095366</td>\n",
       "      <td>-0.120658</td>\n",
       "      <td>0.015228</td>\n",
       "    </tr>\n",
       "    <tr>\n",
       "      <th>age</th>\n",
       "      <td>0.006461</td>\n",
       "      <td>-0.032785</td>\n",
       "      <td>1.000000</td>\n",
       "      <td>-0.164907</td>\n",
       "      <td>-0.213234</td>\n",
       "      <td>-0.190618</td>\n",
       "      <td>0.111324</td>\n",
       "      <td>0.053681</td>\n",
       "      <td>0.296938</td>\n",
       "      <td>0.090974</td>\n",
       "      <td>0.250131</td>\n",
       "      <td>0.388454</td>\n",
       "      <td>0.199943</td>\n",
       "      <td>0.125897</td>\n",
       "      <td>-0.018917</td>\n",
       "      <td>0.116767</td>\n",
       "    </tr>\n",
       "    <tr>\n",
       "      <th>education</th>\n",
       "      <td>-0.003029</td>\n",
       "      <td>0.016387</td>\n",
       "      <td>-0.164907</td>\n",
       "      <td>1.000000</td>\n",
       "      <td>0.017395</td>\n",
       "      <td>0.003012</td>\n",
       "      <td>-0.007232</td>\n",
       "      <td>-0.042065</td>\n",
       "      <td>-0.085989</td>\n",
       "      <td>-0.026474</td>\n",
       "      <td>-0.010720</td>\n",
       "      <td>-0.134707</td>\n",
       "      <td>-0.063005</td>\n",
       "      <td>-0.125608</td>\n",
       "      <td>-0.052429</td>\n",
       "      <td>-0.030454</td>\n",
       "    </tr>\n",
       "    <tr>\n",
       "      <th>currentSmoker</th>\n",
       "      <td>0.023475</td>\n",
       "      <td>0.198827</td>\n",
       "      <td>-0.213234</td>\n",
       "      <td>0.017395</td>\n",
       "      <td>1.000000</td>\n",
       "      <td>0.766208</td>\n",
       "      <td>-0.051305</td>\n",
       "      <td>-0.029098</td>\n",
       "      <td>-0.097329</td>\n",
       "      <td>-0.037065</td>\n",
       "      <td>-0.052833</td>\n",
       "      <td>-0.124257</td>\n",
       "      <td>-0.102923</td>\n",
       "      <td>-0.164612</td>\n",
       "      <td>0.066869</td>\n",
       "      <td>-0.049310</td>\n",
       "    </tr>\n",
       "    <tr>\n",
       "      <th>cigsPerDay</th>\n",
       "      <td>0.006929</td>\n",
       "      <td>0.317426</td>\n",
       "      <td>-0.190618</td>\n",
       "      <td>0.003012</td>\n",
       "      <td>0.766208</td>\n",
       "      <td>1.000000</td>\n",
       "      <td>-0.042340</td>\n",
       "      <td>-0.026793</td>\n",
       "      <td>-0.058324</td>\n",
       "      <td>-0.028557</td>\n",
       "      <td>-0.027805</td>\n",
       "      <td>-0.081427</td>\n",
       "      <td>-0.048877</td>\n",
       "      <td>-0.079798</td>\n",
       "      <td>0.071238</td>\n",
       "      <td>-0.053169</td>\n",
       "    </tr>\n",
       "    <tr>\n",
       "      <th>BPMeds</th>\n",
       "      <td>0.022458</td>\n",
       "      <td>-0.049999</td>\n",
       "      <td>0.111324</td>\n",
       "      <td>-0.007232</td>\n",
       "      <td>-0.051305</td>\n",
       "      <td>-0.042340</td>\n",
       "      <td>1.000000</td>\n",
       "      <td>0.076215</td>\n",
       "      <td>0.259289</td>\n",
       "      <td>0.049657</td>\n",
       "      <td>0.065612</td>\n",
       "      <td>0.242810</td>\n",
       "      <td>0.184810</td>\n",
       "      <td>0.086082</td>\n",
       "      <td>0.005429</td>\n",
       "      <td>0.031723</td>\n",
       "    </tr>\n",
       "    <tr>\n",
       "      <th>prevalentStroke</th>\n",
       "      <td>0.021694</td>\n",
       "      <td>-0.003783</td>\n",
       "      <td>0.053681</td>\n",
       "      <td>-0.042065</td>\n",
       "      <td>-0.029098</td>\n",
       "      <td>-0.026793</td>\n",
       "      <td>0.076215</td>\n",
       "      <td>1.000000</td>\n",
       "      <td>0.063023</td>\n",
       "      <td>0.013293</td>\n",
       "      <td>0.001426</td>\n",
       "      <td>0.046495</td>\n",
       "      <td>0.029185</td>\n",
       "      <td>-0.015342</td>\n",
       "      <td>-0.013045</td>\n",
       "      <td>0.027299</td>\n",
       "    </tr>\n",
       "    <tr>\n",
       "      <th>prevalentHyp</th>\n",
       "      <td>0.010723</td>\n",
       "      <td>0.008885</td>\n",
       "      <td>0.296938</td>\n",
       "      <td>-0.085989</td>\n",
       "      <td>-0.097329</td>\n",
       "      <td>-0.058324</td>\n",
       "      <td>0.259289</td>\n",
       "      <td>0.063023</td>\n",
       "      <td>1.000000</td>\n",
       "      <td>0.058654</td>\n",
       "      <td>0.154715</td>\n",
       "      <td>0.693641</td>\n",
       "      <td>0.612437</td>\n",
       "      <td>0.286529</td>\n",
       "      <td>0.147228</td>\n",
       "      <td>0.070613</td>\n",
       "    </tr>\n",
       "    <tr>\n",
       "      <th>diabetes</th>\n",
       "      <td>0.012051</td>\n",
       "      <td>0.021330</td>\n",
       "      <td>0.090974</td>\n",
       "      <td>-0.026474</td>\n",
       "      <td>-0.037065</td>\n",
       "      <td>-0.028557</td>\n",
       "      <td>0.049657</td>\n",
       "      <td>0.013293</td>\n",
       "      <td>0.058654</td>\n",
       "      <td>1.000000</td>\n",
       "      <td>0.037410</td>\n",
       "      <td>0.098220</td>\n",
       "      <td>0.040301</td>\n",
       "      <td>0.069790</td>\n",
       "      <td>0.041416</td>\n",
       "      <td>0.568692</td>\n",
       "    </tr>\n",
       "    <tr>\n",
       "      <th>totChol</th>\n",
       "      <td>0.000526</td>\n",
       "      <td>-0.070436</td>\n",
       "      <td>0.250131</td>\n",
       "      <td>-0.010720</td>\n",
       "      <td>-0.052833</td>\n",
       "      <td>-0.027805</td>\n",
       "      <td>0.065612</td>\n",
       "      <td>0.001426</td>\n",
       "      <td>0.154715</td>\n",
       "      <td>0.037410</td>\n",
       "      <td>1.000000</td>\n",
       "      <td>0.197706</td>\n",
       "      <td>0.155315</td>\n",
       "      <td>0.103041</td>\n",
       "      <td>0.094321</td>\n",
       "      <td>0.038114</td>\n",
       "    </tr>\n",
       "    <tr>\n",
       "      <th>sysBP</th>\n",
       "      <td>0.002750</td>\n",
       "      <td>-0.037775</td>\n",
       "      <td>0.388454</td>\n",
       "      <td>-0.134707</td>\n",
       "      <td>-0.124257</td>\n",
       "      <td>-0.081427</td>\n",
       "      <td>0.242810</td>\n",
       "      <td>0.046495</td>\n",
       "      <td>0.693641</td>\n",
       "      <td>0.098220</td>\n",
       "      <td>0.197706</td>\n",
       "      <td>1.000000</td>\n",
       "      <td>0.778900</td>\n",
       "      <td>0.316188</td>\n",
       "      <td>0.178578</td>\n",
       "      <td>0.123382</td>\n",
       "    </tr>\n",
       "    <tr>\n",
       "      <th>diaBP</th>\n",
       "      <td>0.008052</td>\n",
       "      <td>0.063206</td>\n",
       "      <td>0.199943</td>\n",
       "      <td>-0.063005</td>\n",
       "      <td>-0.102923</td>\n",
       "      <td>-0.048877</td>\n",
       "      <td>0.184810</td>\n",
       "      <td>0.029185</td>\n",
       "      <td>0.612437</td>\n",
       "      <td>0.040301</td>\n",
       "      <td>0.155315</td>\n",
       "      <td>0.778900</td>\n",
       "      <td>1.000000</td>\n",
       "      <td>0.370202</td>\n",
       "      <td>0.173874</td>\n",
       "      <td>0.050703</td>\n",
       "    </tr>\n",
       "    <tr>\n",
       "      <th>BMI</th>\n",
       "      <td>0.008100</td>\n",
       "      <td>0.095366</td>\n",
       "      <td>0.125897</td>\n",
       "      <td>-0.125608</td>\n",
       "      <td>-0.164612</td>\n",
       "      <td>-0.079798</td>\n",
       "      <td>0.086082</td>\n",
       "      <td>-0.015342</td>\n",
       "      <td>0.286529</td>\n",
       "      <td>0.069790</td>\n",
       "      <td>0.103041</td>\n",
       "      <td>0.316188</td>\n",
       "      <td>0.370202</td>\n",
       "      <td>1.000000</td>\n",
       "      <td>0.070420</td>\n",
       "      <td>0.070903</td>\n",
       "    </tr>\n",
       "    <tr>\n",
       "      <th>heartRate</th>\n",
       "      <td>0.021931</td>\n",
       "      <td>-0.120658</td>\n",
       "      <td>-0.018917</td>\n",
       "      <td>-0.052429</td>\n",
       "      <td>0.066869</td>\n",
       "      <td>0.071238</td>\n",
       "      <td>0.005429</td>\n",
       "      <td>-0.013045</td>\n",
       "      <td>0.147228</td>\n",
       "      <td>0.041416</td>\n",
       "      <td>0.094321</td>\n",
       "      <td>0.178578</td>\n",
       "      <td>0.173874</td>\n",
       "      <td>0.070420</td>\n",
       "      <td>1.000000</td>\n",
       "      <td>0.078794</td>\n",
       "    </tr>\n",
       "    <tr>\n",
       "      <th>glucose</th>\n",
       "      <td>-0.000227</td>\n",
       "      <td>0.015228</td>\n",
       "      <td>0.116767</td>\n",
       "      <td>-0.030454</td>\n",
       "      <td>-0.049310</td>\n",
       "      <td>-0.053169</td>\n",
       "      <td>0.031723</td>\n",
       "      <td>0.027299</td>\n",
       "      <td>0.070613</td>\n",
       "      <td>0.568692</td>\n",
       "      <td>0.038114</td>\n",
       "      <td>0.123382</td>\n",
       "      <td>0.050703</td>\n",
       "      <td>0.070903</td>\n",
       "      <td>0.078794</td>\n",
       "      <td>1.000000</td>\n",
       "    </tr>\n",
       "  </tbody>\n",
       "</table>\n",
       "</div>"
      ],
      "text/plain": [
       "                     P_ID      male       age  education  currentSmoker  \\\n",
       "P_ID             1.000000  0.012634  0.006461  -0.003029       0.023475   \n",
       "male             0.012634  1.000000 -0.032785   0.016387       0.198827   \n",
       "age              0.006461 -0.032785  1.000000  -0.164907      -0.213234   \n",
       "education       -0.003029  0.016387 -0.164907   1.000000       0.017395   \n",
       "currentSmoker    0.023475  0.198827 -0.213234   0.017395       1.000000   \n",
       "cigsPerDay       0.006929  0.317426 -0.190618   0.003012       0.766208   \n",
       "BPMeds           0.022458 -0.049999  0.111324  -0.007232      -0.051305   \n",
       "prevalentStroke  0.021694 -0.003783  0.053681  -0.042065      -0.029098   \n",
       "prevalentHyp     0.010723  0.008885  0.296938  -0.085989      -0.097329   \n",
       "diabetes         0.012051  0.021330  0.090974  -0.026474      -0.037065   \n",
       "totChol          0.000526 -0.070436  0.250131  -0.010720      -0.052833   \n",
       "sysBP            0.002750 -0.037775  0.388454  -0.134707      -0.124257   \n",
       "diaBP            0.008052  0.063206  0.199943  -0.063005      -0.102923   \n",
       "BMI              0.008100  0.095366  0.125897  -0.125608      -0.164612   \n",
       "heartRate        0.021931 -0.120658 -0.018917  -0.052429       0.066869   \n",
       "glucose         -0.000227  0.015228  0.116767  -0.030454      -0.049310   \n",
       "\n",
       "                 cigsPerDay    BPMeds  prevalentStroke  prevalentHyp  \\\n",
       "P_ID               0.006929  0.022458         0.021694      0.010723   \n",
       "male               0.317426 -0.049999        -0.003783      0.008885   \n",
       "age               -0.190618  0.111324         0.053681      0.296938   \n",
       "education          0.003012 -0.007232        -0.042065     -0.085989   \n",
       "currentSmoker      0.766208 -0.051305        -0.029098     -0.097329   \n",
       "cigsPerDay         1.000000 -0.042340        -0.026793     -0.058324   \n",
       "BPMeds            -0.042340  1.000000         0.076215      0.259289   \n",
       "prevalentStroke   -0.026793  0.076215         1.000000      0.063023   \n",
       "prevalentHyp      -0.058324  0.259289         0.063023      1.000000   \n",
       "diabetes          -0.028557  0.049657         0.013293      0.058654   \n",
       "totChol           -0.027805  0.065612         0.001426      0.154715   \n",
       "sysBP             -0.081427  0.242810         0.046495      0.693641   \n",
       "diaBP             -0.048877  0.184810         0.029185      0.612437   \n",
       "BMI               -0.079798  0.086082        -0.015342      0.286529   \n",
       "heartRate          0.071238  0.005429        -0.013045      0.147228   \n",
       "glucose           -0.053169  0.031723         0.027299      0.070613   \n",
       "\n",
       "                 diabetes   totChol     sysBP     diaBP       BMI  heartRate  \\\n",
       "P_ID             0.012051  0.000526  0.002750  0.008052  0.008100   0.021931   \n",
       "male             0.021330 -0.070436 -0.037775  0.063206  0.095366  -0.120658   \n",
       "age              0.090974  0.250131  0.388454  0.199943  0.125897  -0.018917   \n",
       "education       -0.026474 -0.010720 -0.134707 -0.063005 -0.125608  -0.052429   \n",
       "currentSmoker   -0.037065 -0.052833 -0.124257 -0.102923 -0.164612   0.066869   \n",
       "cigsPerDay      -0.028557 -0.027805 -0.081427 -0.048877 -0.079798   0.071238   \n",
       "BPMeds           0.049657  0.065612  0.242810  0.184810  0.086082   0.005429   \n",
       "prevalentStroke  0.013293  0.001426  0.046495  0.029185 -0.015342  -0.013045   \n",
       "prevalentHyp     0.058654  0.154715  0.693641  0.612437  0.286529   0.147228   \n",
       "diabetes         1.000000  0.037410  0.098220  0.040301  0.069790   0.041416   \n",
       "totChol          0.037410  1.000000  0.197706  0.155315  0.103041   0.094321   \n",
       "sysBP            0.098220  0.197706  1.000000  0.778900  0.316188   0.178578   \n",
       "diaBP            0.040301  0.155315  0.778900  1.000000  0.370202   0.173874   \n",
       "BMI              0.069790  0.103041  0.316188  0.370202  1.000000   0.070420   \n",
       "heartRate        0.041416  0.094321  0.178578  0.173874  0.070420   1.000000   \n",
       "glucose          0.568692  0.038114  0.123382  0.050703  0.070903   0.078794   \n",
       "\n",
       "                  glucose  \n",
       "P_ID            -0.000227  \n",
       "male             0.015228  \n",
       "age              0.116767  \n",
       "education       -0.030454  \n",
       "currentSmoker   -0.049310  \n",
       "cigsPerDay      -0.053169  \n",
       "BPMeds           0.031723  \n",
       "prevalentStroke  0.027299  \n",
       "prevalentHyp     0.070613  \n",
       "diabetes         0.568692  \n",
       "totChol          0.038114  \n",
       "sysBP            0.123382  \n",
       "diaBP            0.050703  \n",
       "BMI              0.070903  \n",
       "heartRate        0.078794  \n",
       "glucose          1.000000  "
      ]
     },
     "execution_count": 167,
     "metadata": {},
     "output_type": "execute_result"
    }
   ],
   "source": [
    "corr = df_num.corr()\n",
    "corr"
   ]
  },
  {
   "cell_type": "markdown",
   "id": "fc7372c6",
   "metadata": {},
   "source": [
    "#### Corr heatmap for visualization"
   ]
  },
  {
   "cell_type": "code",
   "execution_count": 168,
   "id": "b32bdfa9",
   "metadata": {
    "ExecuteTime": {
     "end_time": "2022-07-14T12:54:14.980929Z",
     "start_time": "2022-07-14T12:54:13.802916Z"
    }
   },
   "outputs": [
    {
     "data": {
      "image/png": "[encoded data removed]",
      "text/plain": [
       "<Figure size 1800x720 with 2 Axes>"
      ]
     },
     "metadata": {
      "needs_background": "light"
     },
     "output_type": "display_data"
    }
   ],
   "source": [
    "# plt.figure(figsize = (25,10))\n",
    "sns.heatmap(corr,annot = True)\n",
    "plt.show()\n"
   ]
  },
  {
   "cell_type": "markdown",
   "id": "95a7ef59",
   "metadata": {},
   "source": [
    "#### Column name display"
   ]
  },
  {
   "cell_type": "code",
   "execution_count": 169,
   "id": "295d04f6",
   "metadata": {
    "ExecuteTime": {
     "end_time": "2022-07-14T12:54:18.631596Z",
     "start_time": "2022-07-14T12:54:18.619563Z"
    }
   },
   "outputs": [
    {
     "data": {
      "text/plain": [
       "Index(['P_ID', 'male', 'age', 'education', 'currentSmoker', 'cigsPerDay',\n",
       "       'BPMeds', 'prevalentStroke', 'prevalentHyp', 'diabetes', 'totChol',\n",
       "       'sysBP', 'diaBP', 'BMI', 'heartRate', 'glucose'],\n",
       "      dtype='object')"
      ]
     },
     "execution_count": 169,
     "metadata": {},
     "output_type": "execute_result"
    }
   ],
   "source": [
    "df_num.columns"
   ]
  },
  {
   "cell_type": "markdown",
   "id": "2ef80c4b",
   "metadata": {},
   "source": [
    "#### Outlier detection&treatment"
   ]
  },
  {
   "cell_type": "code",
   "execution_count": 170,
   "id": "01198537",
   "metadata": {
    "ExecuteTime": {
     "end_time": "2022-07-14T12:54:22.514228Z",
     "start_time": "2022-07-14T12:54:22.501953Z"
    }
   },
   "outputs": [],
   "source": [
    "def outlier(df,ft):\n",
    "    Q1 = df[ft].quantile(0.25)\n",
    "    Q3 = df[ft].quantile(0.75)\n",
    "    IQR = Q3 - Q1\n",
    "    lower_bound = Q1 - 1.5*IQR\n",
    "    upper_bound = Q3 + 1.5*IQR\n",
    "    \n",
    "    lst = df.index[(df[ft] < lower_bound) | (df[ft] > upper_bound)]\n",
    "    mean = df[ft].mean()\n",
    "    for index in lst:\n",
    "        df[ft].loc[index] = mean\n",
    "    \n",
    "    return lst\n",
    "    "
   ]
  },
  {
   "cell_type": "code",
   "execution_count": 171,
   "id": "c0839f55",
   "metadata": {
    "ExecuteTime": {
     "end_time": "2022-07-14T12:54:23.006642Z",
     "start_time": "2022-07-14T12:54:22.678288Z"
    }
   },
   "outputs": [
    {
     "name": "stderr",
     "output_type": "stream",
     "text": [
      "C:\\ProgramData\\Anaconda3\\lib\\site-packages\\pandas\\core\\indexing.py:1732: SettingWithCopyWarning: \n",
      "A value is trying to be set on a copy of a slice from a DataFrame\n",
      "\n",
      "See the caveats in the documentation: https://pandas.pydata.org/pandas-docs/stable/user_guide/indexing.html#returning-a-view-versus-a-copy\n",
      "  self._setitem_single_block(indexer, value, name)\n"
     ]
    }
   ],
   "source": [
    "indx_lst = []\n",
    "for col in df_num.columns:\n",
    "    indx_lst.extend(outlier(df_num, col))"
   ]
  },
  {
   "cell_type": "code",
   "execution_count": 172,
   "id": "e53d4b97",
   "metadata": {
    "ExecuteTime": {
     "end_time": "2022-07-14T12:54:23.022728Z",
     "start_time": "2022-07-14T12:54:23.010618Z"
    }
   },
   "outputs": [],
   "source": [
    "df_log = pd.DataFrame()\n",
    "df_exp  = pd.DataFrame()"
   ]
  },
  {
   "cell_type": "code",
   "execution_count": 173,
   "id": "8a350c96",
   "metadata": {
    "ExecuteTime": {
     "end_time": "2022-07-14T12:54:23.068770Z",
     "start_time": "2022-07-14T12:54:23.024765Z"
    }
   },
   "outputs": [
    {
     "name": "stderr",
     "output_type": "stream",
     "text": [
      "C:\\ProgramData\\Anaconda3\\lib\\site-packages\\pandas\\core\\arraylike.py:364: RuntimeWarning: divide by zero encountered in log\n",
      "  result = getattr(ufunc, method)(*inputs, **kwargs)\n"
     ]
    }
   ],
   "source": [
    "for col in df_num.columns:\n",
    "    df_log[col] = np.log(df_num[col])"
   ]
  },
  {
   "cell_type": "code",
   "execution_count": 174,
   "id": "80a21744",
   "metadata": {
    "ExecuteTime": {
     "end_time": "2022-07-14T12:54:23.177928Z",
     "start_time": "2022-07-14T12:54:23.144772Z"
    }
   },
   "outputs": [
    {
     "data": {
      "text/html": [
       "<div>\n",
       "<style scoped>\n",
       "    .dataframe tbody tr th:only-of-type {\n",
       "        vertical-align: middle;\n",
       "    }\n",
       "\n",
       "    .dataframe tbody tr th {\n",
       "        vertical-align: top;\n",
       "    }\n",
       "\n",
       "    .dataframe thead th {\n",
       "        text-align: right;\n",
       "    }\n",
       "</style>\n",
       "<table border=\"1\" class=\"dataframe\">\n",
       "  <thead>\n",
       "    <tr style=\"text-align: right;\">\n",
       "      <th></th>\n",
       "      <th>P_ID</th>\n",
       "      <th>male</th>\n",
       "      <th>age</th>\n",
       "      <th>education</th>\n",
       "      <th>currentSmoker</th>\n",
       "      <th>cigsPerDay</th>\n",
       "      <th>BPMeds</th>\n",
       "      <th>prevalentStroke</th>\n",
       "      <th>prevalentHyp</th>\n",
       "      <th>diabetes</th>\n",
       "      <th>totChol</th>\n",
       "      <th>sysBP</th>\n",
       "      <th>diaBP</th>\n",
       "      <th>BMI</th>\n",
       "      <th>heartRate</th>\n",
       "      <th>glucose</th>\n",
       "    </tr>\n",
       "  </thead>\n",
       "  <tbody>\n",
       "    <tr>\n",
       "      <th>0</th>\n",
       "      <td>7.099202</td>\n",
       "      <td>0.0</td>\n",
       "      <td>3.663562</td>\n",
       "      <td>1.386294</td>\n",
       "      <td>-inf</td>\n",
       "      <td>-inf</td>\n",
       "      <td>-inf</td>\n",
       "      <td>-inf</td>\n",
       "      <td>-inf</td>\n",
       "      <td>-inf</td>\n",
       "      <td>5.273000</td>\n",
       "      <td>4.663439</td>\n",
       "      <td>4.248495</td>\n",
       "      <td>3.294725</td>\n",
       "      <td>4.382027</td>\n",
       "      <td>4.343805</td>\n",
       "    </tr>\n",
       "    <tr>\n",
       "      <th>1</th>\n",
       "      <td>7.100027</td>\n",
       "      <td>-inf</td>\n",
       "      <td>3.828641</td>\n",
       "      <td>0.693147</td>\n",
       "      <td>-inf</td>\n",
       "      <td>-inf</td>\n",
       "      <td>-inf</td>\n",
       "      <td>-inf</td>\n",
       "      <td>-inf</td>\n",
       "      <td>-inf</td>\n",
       "      <td>5.521461</td>\n",
       "      <td>4.795791</td>\n",
       "      <td>4.394449</td>\n",
       "      <td>3.357942</td>\n",
       "      <td>4.553877</td>\n",
       "      <td>4.330733</td>\n",
       "    </tr>\n",
       "    <tr>\n",
       "      <th>2</th>\n",
       "      <td>7.100852</td>\n",
       "      <td>0.0</td>\n",
       "      <td>3.871201</td>\n",
       "      <td>0.000000</td>\n",
       "      <td>0.0</td>\n",
       "      <td>2.995732</td>\n",
       "      <td>-inf</td>\n",
       "      <td>-inf</td>\n",
       "      <td>-inf</td>\n",
       "      <td>-inf</td>\n",
       "      <td>5.501258</td>\n",
       "      <td>4.848116</td>\n",
       "      <td>4.382027</td>\n",
       "      <td>3.232384</td>\n",
       "      <td>4.317488</td>\n",
       "      <td>4.248495</td>\n",
       "    </tr>\n",
       "    <tr>\n",
       "      <th>3</th>\n",
       "      <td>7.101676</td>\n",
       "      <td>-inf</td>\n",
       "      <td>4.110874</td>\n",
       "      <td>1.098612</td>\n",
       "      <td>0.0</td>\n",
       "      <td>3.401197</td>\n",
       "      <td>-inf</td>\n",
       "      <td>-inf</td>\n",
       "      <td>0.0</td>\n",
       "      <td>-inf</td>\n",
       "      <td>5.416100</td>\n",
       "      <td>5.010635</td>\n",
       "      <td>4.553877</td>\n",
       "      <td>3.352707</td>\n",
       "      <td>4.174387</td>\n",
       "      <td>4.634729</td>\n",
       "    </tr>\n",
       "    <tr>\n",
       "      <th>4</th>\n",
       "      <td>7.102499</td>\n",
       "      <td>-inf</td>\n",
       "      <td>3.828641</td>\n",
       "      <td>1.098612</td>\n",
       "      <td>0.0</td>\n",
       "      <td>3.135494</td>\n",
       "      <td>-inf</td>\n",
       "      <td>-inf</td>\n",
       "      <td>-inf</td>\n",
       "      <td>-inf</td>\n",
       "      <td>5.652489</td>\n",
       "      <td>4.867534</td>\n",
       "      <td>4.430817</td>\n",
       "      <td>3.139833</td>\n",
       "      <td>4.442651</td>\n",
       "      <td>4.442651</td>\n",
       "    </tr>\n",
       "  </tbody>\n",
       "</table>\n",
       "</div>"
      ],
      "text/plain": [
       "       P_ID  male       age  education  currentSmoker  cigsPerDay  BPMeds  \\\n",
       "0  7.099202   0.0  3.663562   1.386294           -inf        -inf    -inf   \n",
       "1  7.100027  -inf  3.828641   0.693147           -inf        -inf    -inf   \n",
       "2  7.100852   0.0  3.871201   0.000000            0.0    2.995732    -inf   \n",
       "3  7.101676  -inf  4.110874   1.098612            0.0    3.401197    -inf   \n",
       "4  7.102499  -inf  3.828641   1.098612            0.0    3.135494    -inf   \n",
       "\n",
       "   prevalentStroke  prevalentHyp  diabetes   totChol     sysBP     diaBP  \\\n",
       "0             -inf          -inf      -inf  5.273000  4.663439  4.248495   \n",
       "1             -inf          -inf      -inf  5.521461  4.795791  4.394449   \n",
       "2             -inf          -inf      -inf  5.501258  4.848116  4.382027   \n",
       "3             -inf           0.0      -inf  5.416100  5.010635  4.553877   \n",
       "4             -inf          -inf      -inf  5.652489  4.867534  4.430817   \n",
       "\n",
       "        BMI  heartRate   glucose  \n",
       "0  3.294725   4.382027  4.343805  \n",
       "1  3.357942   4.553877  4.330733  \n",
       "2  3.232384   4.317488  4.248495  \n",
       "3  3.352707   4.174387  4.634729  \n",
       "4  3.139833   4.442651  4.442651  "
      ]
     },
     "execution_count": 174,
     "metadata": {},
     "output_type": "execute_result"
    }
   ],
   "source": [
    "df_log.head()"
   ]
  },
  {
   "cell_type": "code",
   "execution_count": 175,
   "id": "a45c232e",
   "metadata": {
    "ExecuteTime": {
     "end_time": "2022-07-14T12:54:26.692425Z",
     "start_time": "2022-07-14T12:54:26.669029Z"
    }
   },
   "outputs": [
    {
     "name": "stderr",
     "output_type": "stream",
     "text": [
      "C:\\ProgramData\\Anaconda3\\lib\\site-packages\\pandas\\core\\arraylike.py:364: RuntimeWarning: overflow encountered in exp\n",
      "  result = getattr(ufunc, method)(*inputs, **kwargs)\n"
     ]
    }
   ],
   "source": [
    "for col in df_num.columns:\n",
    "    df_exp[col] = np.exp(df_num[col])"
   ]
  },
  {
   "cell_type": "code",
   "execution_count": 176,
   "id": "214d56a1",
   "metadata": {
    "ExecuteTime": {
     "end_time": "2022-07-14T12:54:26.942037Z",
     "start_time": "2022-07-14T12:54:26.902764Z"
    }
   },
   "outputs": [
    {
     "data": {
      "text/html": [
       "<div>\n",
       "<style scoped>\n",
       "    .dataframe tbody tr th:only-of-type {\n",
       "        vertical-align: middle;\n",
       "    }\n",
       "\n",
       "    .dataframe tbody tr th {\n",
       "        vertical-align: top;\n",
       "    }\n",
       "\n",
       "    .dataframe thead th {\n",
       "        text-align: right;\n",
       "    }\n",
       "</style>\n",
       "<table border=\"1\" class=\"dataframe\">\n",
       "  <thead>\n",
       "    <tr style=\"text-align: right;\">\n",
       "      <th></th>\n",
       "      <th>P_ID</th>\n",
       "      <th>male</th>\n",
       "      <th>age</th>\n",
       "      <th>education</th>\n",
       "      <th>currentSmoker</th>\n",
       "      <th>cigsPerDay</th>\n",
       "      <th>BPMeds</th>\n",
       "      <th>prevalentStroke</th>\n",
       "      <th>prevalentHyp</th>\n",
       "      <th>diabetes</th>\n",
       "      <th>totChol</th>\n",
       "      <th>sysBP</th>\n",
       "      <th>diaBP</th>\n",
       "      <th>BMI</th>\n",
       "      <th>heartRate</th>\n",
       "      <th>glucose</th>\n",
       "    </tr>\n",
       "  </thead>\n",
       "  <tbody>\n",
       "    <tr>\n",
       "      <th>0</th>\n",
       "      <td>inf</td>\n",
       "      <td>2.718282</td>\n",
       "      <td>8.659340e+16</td>\n",
       "      <td>54.598150</td>\n",
       "      <td>1.000000</td>\n",
       "      <td>1.000000e+00</td>\n",
       "      <td>1.0</td>\n",
       "      <td>1.0</td>\n",
       "      <td>1.000000</td>\n",
       "      <td>1.0</td>\n",
       "      <td>4.868823e+84</td>\n",
       "      <td>1.084464e+46</td>\n",
       "      <td>2.515439e+30</td>\n",
       "      <td>5.163238e+11</td>\n",
       "      <td>5.540622e+34</td>\n",
       "      <td>2.758513e+33</td>\n",
       "    </tr>\n",
       "    <tr>\n",
       "      <th>1</th>\n",
       "      <td>inf</td>\n",
       "      <td>1.000000</td>\n",
       "      <td>9.496119e+19</td>\n",
       "      <td>7.389056</td>\n",
       "      <td>1.000000</td>\n",
       "      <td>1.000000e+00</td>\n",
       "      <td>1.0</td>\n",
       "      <td>1.0</td>\n",
       "      <td>1.000000</td>\n",
       "      <td>1.0</td>\n",
       "      <td>3.746455e+108</td>\n",
       "      <td>3.545131e+52</td>\n",
       "      <td>1.506097e+35</td>\n",
       "      <td>3.001100e+12</td>\n",
       "      <td>1.811239e+41</td>\n",
       "      <td>1.014800e+33</td>\n",
       "    </tr>\n",
       "    <tr>\n",
       "      <th>2</th>\n",
       "      <td>inf</td>\n",
       "      <td>2.718282</td>\n",
       "      <td>7.016736e+20</td>\n",
       "      <td>2.718282</td>\n",
       "      <td>2.718282</td>\n",
       "      <td>4.851652e+08</td>\n",
       "      <td>1.0</td>\n",
       "      <td>1.0</td>\n",
       "      <td>1.000000</td>\n",
       "      <td>1.0</td>\n",
       "      <td>2.524341e+106</td>\n",
       "      <td>2.358014e+55</td>\n",
       "      <td>5.540622e+34</td>\n",
       "      <td>1.011631e+11</td>\n",
       "      <td>3.733242e+32</td>\n",
       "      <td>2.515439e+30</td>\n",
       "    </tr>\n",
       "    <tr>\n",
       "      <th>3</th>\n",
       "      <td>inf</td>\n",
       "      <td>1.000000</td>\n",
       "      <td>3.104298e+26</td>\n",
       "      <td>20.085537</td>\n",
       "      <td>2.718282</td>\n",
       "      <td>1.068647e+13</td>\n",
       "      <td>1.0</td>\n",
       "      <td>1.0</td>\n",
       "      <td>2.718282</td>\n",
       "      <td>1.0</td>\n",
       "      <td>5.203055e+97</td>\n",
       "      <td>1.393710e+65</td>\n",
       "      <td>1.811239e+41</td>\n",
       "      <td>2.583071e+12</td>\n",
       "      <td>1.694889e+28</td>\n",
       "      <td>5.399228e+44</td>\n",
       "    </tr>\n",
       "    <tr>\n",
       "      <th>4</th>\n",
       "      <td>inf</td>\n",
       "      <td>1.000000</td>\n",
       "      <td>9.496119e+19</td>\n",
       "      <td>20.085537</td>\n",
       "      <td>2.718282</td>\n",
       "      <td>9.744803e+09</td>\n",
       "      <td>1.0</td>\n",
       "      <td>1.0</td>\n",
       "      <td>1.000000</td>\n",
       "      <td>1.0</td>\n",
       "      <td>5.941927e+123</td>\n",
       "      <td>2.872650e+56</td>\n",
       "      <td>3.025077e+36</td>\n",
       "      <td>1.076967e+10</td>\n",
       "      <td>8.223013e+36</td>\n",
       "      <td>8.223013e+36</td>\n",
       "    </tr>\n",
       "    <tr>\n",
       "      <th>...</th>\n",
       "      <td>...</td>\n",
       "      <td>...</td>\n",
       "      <td>...</td>\n",
       "      <td>...</td>\n",
       "      <td>...</td>\n",
       "      <td>...</td>\n",
       "      <td>...</td>\n",
       "      <td>...</td>\n",
       "      <td>...</td>\n",
       "      <td>...</td>\n",
       "      <td>...</td>\n",
       "      <td>...</td>\n",
       "      <td>...</td>\n",
       "      <td>...</td>\n",
       "      <td>...</td>\n",
       "      <td>...</td>\n",
       "    </tr>\n",
       "    <tr>\n",
       "      <th>3693</th>\n",
       "      <td>inf</td>\n",
       "      <td>2.718282</td>\n",
       "      <td>3.831008e+22</td>\n",
       "      <td>20.085537</td>\n",
       "      <td>1.000000</td>\n",
       "      <td>1.000000e+00</td>\n",
       "      <td>1.0</td>\n",
       "      <td>1.0</td>\n",
       "      <td>1.000000</td>\n",
       "      <td>1.0</td>\n",
       "      <td>5.203055e+97</td>\n",
       "      <td>4.797813e+51</td>\n",
       "      <td>1.694889e+28</td>\n",
       "      <td>4.766270e+11</td>\n",
       "      <td>8.438357e+26</td>\n",
       "      <td>1.373383e+32</td>\n",
       "    </tr>\n",
       "    <tr>\n",
       "      <th>3694</th>\n",
       "      <td>inf</td>\n",
       "      <td>1.000000</td>\n",
       "      <td>2.293783e+27</td>\n",
       "      <td>2.718282</td>\n",
       "      <td>1.000000</td>\n",
       "      <td>1.000000e+00</td>\n",
       "      <td>1.0</td>\n",
       "      <td>1.0</td>\n",
       "      <td>1.000000</td>\n",
       "      <td>1.0</td>\n",
       "      <td>1.146049e+102</td>\n",
       "      <td>1.935576e+54</td>\n",
       "      <td>2.038281e+34</td>\n",
       "      <td>3.873464e+10</td>\n",
       "      <td>4.923458e+41</td>\n",
       "      <td>1.112864e+36</td>\n",
       "    </tr>\n",
       "    <tr>\n",
       "      <th>3695</th>\n",
       "      <td>inf</td>\n",
       "      <td>2.718282</td>\n",
       "      <td>4.727839e+18</td>\n",
       "      <td>20.085537</td>\n",
       "      <td>2.718282</td>\n",
       "      <td>4.851652e+08</td>\n",
       "      <td>1.0</td>\n",
       "      <td>1.0</td>\n",
       "      <td>1.000000</td>\n",
       "      <td>1.0</td>\n",
       "      <td>1.700888e+104</td>\n",
       "      <td>1.144026e+64</td>\n",
       "      <td>1.651636e+38</td>\n",
       "      <td>1.312015e+11</td>\n",
       "      <td>1.694889e+28</td>\n",
       "      <td>2.733832e+35</td>\n",
       "    </tr>\n",
       "    <tr>\n",
       "      <th>3696</th>\n",
       "      <td>inf</td>\n",
       "      <td>2.718282</td>\n",
       "      <td>6.398435e+17</td>\n",
       "      <td>7.389056</td>\n",
       "      <td>2.718282</td>\n",
       "      <td>2.353853e+17</td>\n",
       "      <td>1.0</td>\n",
       "      <td>1.0</td>\n",
       "      <td>1.000000</td>\n",
       "      <td>1.0</td>\n",
       "      <td>1.256796e+105</td>\n",
       "      <td>1.173986e+54</td>\n",
       "      <td>3.685299e+37</td>\n",
       "      <td>3.218704e+12</td>\n",
       "      <td>6.076030e+37</td>\n",
       "      <td>1.252363e+29</td>\n",
       "    </tr>\n",
       "    <tr>\n",
       "      <th>3697</th>\n",
       "      <td>inf</td>\n",
       "      <td>1.000000</td>\n",
       "      <td>5.834617e+14</td>\n",
       "      <td>7.389056</td>\n",
       "      <td>2.718282</td>\n",
       "      <td>4.851652e+08</td>\n",
       "      <td>1.0</td>\n",
       "      <td>1.0</td>\n",
       "      <td>1.000000</td>\n",
       "      <td>1.0</td>\n",
       "      <td>1.489384e+78</td>\n",
       "      <td>1.609487e+48</td>\n",
       "      <td>2.091659e+24</td>\n",
       "      <td>2.196212e+09</td>\n",
       "      <td>3.317400e+39</td>\n",
       "      <td>7.498417e+33</td>\n",
       "    </tr>\n",
       "  </tbody>\n",
       "</table>\n",
       "<p>3698 rows × 16 columns</p>\n",
       "</div>"
      ],
      "text/plain": [
       "      P_ID      male           age  education  currentSmoker    cigsPerDay  \\\n",
       "0      inf  2.718282  8.659340e+16  54.598150       1.000000  1.000000e+00   \n",
       "1      inf  1.000000  9.496119e+19   7.389056       1.000000  1.000000e+00   \n",
       "2      inf  2.718282  7.016736e+20   2.718282       2.718282  4.851652e+08   \n",
       "3      inf  1.000000  3.104298e+26  20.085537       2.718282  1.068647e+13   \n",
       "4      inf  1.000000  9.496119e+19  20.085537       2.718282  9.744803e+09   \n",
       "...    ...       ...           ...        ...            ...           ...   \n",
       "3693   inf  2.718282  3.831008e+22  20.085537       1.000000  1.000000e+00   \n",
       "3694   inf  1.000000  2.293783e+27   2.718282       1.000000  1.000000e+00   \n",
       "3695   inf  2.718282  4.727839e+18  20.085537       2.718282  4.851652e+08   \n",
       "3696   inf  2.718282  6.398435e+17   7.389056       2.718282  2.353853e+17   \n",
       "3697   inf  1.000000  5.834617e+14   7.389056       2.718282  4.851652e+08   \n",
       "\n",
       "      BPMeds  prevalentStroke  prevalentHyp  diabetes        totChol  \\\n",
       "0        1.0              1.0      1.000000       1.0   4.868823e+84   \n",
       "1        1.0              1.0      1.000000       1.0  3.746455e+108   \n",
       "2        1.0              1.0      1.000000       1.0  2.524341e+106   \n",
       "3        1.0              1.0      2.718282       1.0   5.203055e+97   \n",
       "4        1.0              1.0      1.000000       1.0  5.941927e+123   \n",
       "...      ...              ...           ...       ...            ...   \n",
       "3693     1.0              1.0      1.000000       1.0   5.203055e+97   \n",
       "3694     1.0              1.0      1.000000       1.0  1.146049e+102   \n",
       "3695     1.0              1.0      1.000000       1.0  1.700888e+104   \n",
       "3696     1.0              1.0      1.000000       1.0  1.256796e+105   \n",
       "3697     1.0              1.0      1.000000       1.0   1.489384e+78   \n",
       "\n",
       "             sysBP         diaBP           BMI     heartRate       glucose  \n",
       "0     1.084464e+46  2.515439e+30  5.163238e+11  5.540622e+34  2.758513e+33  \n",
       "1     3.545131e+52  1.506097e+35  3.001100e+12  1.811239e+41  1.014800e+33  \n",
       "2     2.358014e+55  5.540622e+34  1.011631e+11  3.733242e+32  2.515439e+30  \n",
       "3     1.393710e+65  1.811239e+41  2.583071e+12  1.694889e+28  5.399228e+44  \n",
       "4     2.872650e+56  3.025077e+36  1.076967e+10  8.223013e+36  8.223013e+36  \n",
       "...            ...           ...           ...           ...           ...  \n",
       "3693  4.797813e+51  1.694889e+28  4.766270e+11  8.438357e+26  1.373383e+32  \n",
       "3694  1.935576e+54  2.038281e+34  3.873464e+10  4.923458e+41  1.112864e+36  \n",
       "3695  1.144026e+64  1.651636e+38  1.312015e+11  1.694889e+28  2.733832e+35  \n",
       "3696  1.173986e+54  3.685299e+37  3.218704e+12  6.076030e+37  1.252363e+29  \n",
       "3697  1.609487e+48  2.091659e+24  2.196212e+09  3.317400e+39  7.498417e+33  \n",
       "\n",
       "[3698 rows x 16 columns]"
      ]
     },
     "execution_count": 176,
     "metadata": {},
     "output_type": "execute_result"
    }
   ],
   "source": [
    "df_exp"
   ]
  },
  {
   "cell_type": "code",
   "execution_count": 177,
   "id": "c51e5acd",
   "metadata": {
    "ExecuteTime": {
     "end_time": "2022-07-14T12:54:27.138918Z",
     "start_time": "2022-07-14T12:54:27.120766Z"
    }
   },
   "outputs": [],
   "source": [
    "df_log.replace([np.inf, -np.inf], 0, inplace=True)"
   ]
  },
  {
   "cell_type": "code",
   "execution_count": 178,
   "id": "6626c386",
   "metadata": {
    "ExecuteTime": {
     "end_time": "2022-07-14T12:54:28.481052Z",
     "start_time": "2022-07-14T12:54:28.459640Z"
    }
   },
   "outputs": [
    {
     "data": {
      "text/html": [
       "<div>\n",
       "<style scoped>\n",
       "    .dataframe tbody tr th:only-of-type {\n",
       "        vertical-align: middle;\n",
       "    }\n",
       "\n",
       "    .dataframe tbody tr th {\n",
       "        vertical-align: top;\n",
       "    }\n",
       "\n",
       "    .dataframe thead th {\n",
       "        text-align: right;\n",
       "    }\n",
       "</style>\n",
       "<table border=\"1\" class=\"dataframe\">\n",
       "  <thead>\n",
       "    <tr style=\"text-align: right;\">\n",
       "      <th></th>\n",
       "    </tr>\n",
       "  </thead>\n",
       "  <tbody>\n",
       "  </tbody>\n",
       "</table>\n",
       "</div>"
      ],
      "text/plain": [
       "Empty DataFrame\n",
       "Columns: []\n",
       "Index: []"
      ]
     },
     "execution_count": 178,
     "metadata": {},
     "output_type": "execute_result"
    }
   ],
   "source": [
    "df_cat"
   ]
  },
  {
   "cell_type": "markdown",
   "id": "a47af511",
   "metadata": {},
   "source": [
    "### Feature selection"
   ]
  },
  {
   "cell_type": "code",
   "execution_count": 179,
   "id": "dd5e5ecc",
   "metadata": {
    "ExecuteTime": {
     "end_time": "2022-07-14T12:54:29.115966Z",
     "start_time": "2022-07-14T12:54:29.094337Z"
    }
   },
   "outputs": [
    {
     "data": {
      "text/plain": [
       "0       0\n",
       "1       0\n",
       "2       0\n",
       "3       1\n",
       "4       0\n",
       "       ..\n",
       "3693    0\n",
       "3694    0\n",
       "3695    0\n",
       "3696    0\n",
       "3697    0\n",
       "Name: HeartRisk, Length: 3698, dtype: int64"
      ]
     },
     "execution_count": 179,
     "metadata": {},
     "output_type": "execute_result"
    }
   ],
   "source": [
    "Y"
   ]
  },
  {
   "cell_type": "code",
   "execution_count": 180,
   "id": "1534b7e3",
   "metadata": {
    "ExecuteTime": {
     "end_time": "2022-07-14T12:54:31.628024Z",
     "start_time": "2022-07-14T12:54:31.588894Z"
    }
   },
   "outputs": [
    {
     "data": {
      "text/html": [
       "<div>\n",
       "<style scoped>\n",
       "    .dataframe tbody tr th:only-of-type {\n",
       "        vertical-align: middle;\n",
       "    }\n",
       "\n",
       "    .dataframe tbody tr th {\n",
       "        vertical-align: top;\n",
       "    }\n",
       "\n",
       "    .dataframe thead th {\n",
       "        text-align: right;\n",
       "    }\n",
       "</style>\n",
       "<table border=\"1\" class=\"dataframe\">\n",
       "  <thead>\n",
       "    <tr style=\"text-align: right;\">\n",
       "      <th></th>\n",
       "      <th>P_ID</th>\n",
       "      <th>male</th>\n",
       "      <th>age</th>\n",
       "      <th>education</th>\n",
       "      <th>currentSmoker</th>\n",
       "      <th>cigsPerDay</th>\n",
       "      <th>BPMeds</th>\n",
       "      <th>prevalentStroke</th>\n",
       "      <th>prevalentHyp</th>\n",
       "      <th>diabetes</th>\n",
       "      <th>totChol</th>\n",
       "      <th>sysBP</th>\n",
       "      <th>diaBP</th>\n",
       "      <th>BMI</th>\n",
       "      <th>heartRate</th>\n",
       "      <th>glucose</th>\n",
       "    </tr>\n",
       "  </thead>\n",
       "  <tbody>\n",
       "    <tr>\n",
       "      <th>0</th>\n",
       "      <td>1211</td>\n",
       "      <td>1</td>\n",
       "      <td>39</td>\n",
       "      <td>4.0</td>\n",
       "      <td>0</td>\n",
       "      <td>0.0</td>\n",
       "      <td>0.0</td>\n",
       "      <td>0.0</td>\n",
       "      <td>0</td>\n",
       "      <td>0.0</td>\n",
       "      <td>195.0</td>\n",
       "      <td>106.0</td>\n",
       "      <td>70.0</td>\n",
       "      <td>26.97</td>\n",
       "      <td>80.0</td>\n",
       "      <td>77.000000</td>\n",
       "    </tr>\n",
       "    <tr>\n",
       "      <th>1</th>\n",
       "      <td>1212</td>\n",
       "      <td>0</td>\n",
       "      <td>46</td>\n",
       "      <td>2.0</td>\n",
       "      <td>0</td>\n",
       "      <td>0.0</td>\n",
       "      <td>0.0</td>\n",
       "      <td>0.0</td>\n",
       "      <td>0</td>\n",
       "      <td>0.0</td>\n",
       "      <td>250.0</td>\n",
       "      <td>121.0</td>\n",
       "      <td>81.0</td>\n",
       "      <td>28.73</td>\n",
       "      <td>95.0</td>\n",
       "      <td>76.000000</td>\n",
       "    </tr>\n",
       "    <tr>\n",
       "      <th>2</th>\n",
       "      <td>1213</td>\n",
       "      <td>1</td>\n",
       "      <td>48</td>\n",
       "      <td>1.0</td>\n",
       "      <td>1</td>\n",
       "      <td>20.0</td>\n",
       "      <td>0.0</td>\n",
       "      <td>0.0</td>\n",
       "      <td>0</td>\n",
       "      <td>0.0</td>\n",
       "      <td>245.0</td>\n",
       "      <td>127.5</td>\n",
       "      <td>80.0</td>\n",
       "      <td>25.34</td>\n",
       "      <td>75.0</td>\n",
       "      <td>70.000000</td>\n",
       "    </tr>\n",
       "    <tr>\n",
       "      <th>3</th>\n",
       "      <td>1214</td>\n",
       "      <td>0</td>\n",
       "      <td>61</td>\n",
       "      <td>3.0</td>\n",
       "      <td>1</td>\n",
       "      <td>30.0</td>\n",
       "      <td>0.0</td>\n",
       "      <td>0.0</td>\n",
       "      <td>1</td>\n",
       "      <td>0.0</td>\n",
       "      <td>225.0</td>\n",
       "      <td>150.0</td>\n",
       "      <td>95.0</td>\n",
       "      <td>28.58</td>\n",
       "      <td>65.0</td>\n",
       "      <td>103.000000</td>\n",
       "    </tr>\n",
       "    <tr>\n",
       "      <th>4</th>\n",
       "      <td>1215</td>\n",
       "      <td>0</td>\n",
       "      <td>46</td>\n",
       "      <td>3.0</td>\n",
       "      <td>1</td>\n",
       "      <td>23.0</td>\n",
       "      <td>0.0</td>\n",
       "      <td>0.0</td>\n",
       "      <td>0</td>\n",
       "      <td>0.0</td>\n",
       "      <td>285.0</td>\n",
       "      <td>130.0</td>\n",
       "      <td>84.0</td>\n",
       "      <td>23.10</td>\n",
       "      <td>85.0</td>\n",
       "      <td>85.000000</td>\n",
       "    </tr>\n",
       "    <tr>\n",
       "      <th>...</th>\n",
       "      <td>...</td>\n",
       "      <td>...</td>\n",
       "      <td>...</td>\n",
       "      <td>...</td>\n",
       "      <td>...</td>\n",
       "      <td>...</td>\n",
       "      <td>...</td>\n",
       "      <td>...</td>\n",
       "      <td>...</td>\n",
       "      <td>...</td>\n",
       "      <td>...</td>\n",
       "      <td>...</td>\n",
       "      <td>...</td>\n",
       "      <td>...</td>\n",
       "      <td>...</td>\n",
       "      <td>...</td>\n",
       "    </tr>\n",
       "    <tr>\n",
       "      <th>3693</th>\n",
       "      <td>4904</td>\n",
       "      <td>1</td>\n",
       "      <td>52</td>\n",
       "      <td>3.0</td>\n",
       "      <td>0</td>\n",
       "      <td>0.0</td>\n",
       "      <td>0.0</td>\n",
       "      <td>0.0</td>\n",
       "      <td>0</td>\n",
       "      <td>0.0</td>\n",
       "      <td>225.0</td>\n",
       "      <td>119.0</td>\n",
       "      <td>65.0</td>\n",
       "      <td>26.89</td>\n",
       "      <td>62.0</td>\n",
       "      <td>74.000000</td>\n",
       "    </tr>\n",
       "    <tr>\n",
       "      <th>3694</th>\n",
       "      <td>4905</td>\n",
       "      <td>0</td>\n",
       "      <td>63</td>\n",
       "      <td>1.0</td>\n",
       "      <td>0</td>\n",
       "      <td>0.0</td>\n",
       "      <td>0.0</td>\n",
       "      <td>0.0</td>\n",
       "      <td>0</td>\n",
       "      <td>0.0</td>\n",
       "      <td>235.0</td>\n",
       "      <td>125.0</td>\n",
       "      <td>79.0</td>\n",
       "      <td>24.38</td>\n",
       "      <td>96.0</td>\n",
       "      <td>83.000000</td>\n",
       "    </tr>\n",
       "    <tr>\n",
       "      <th>3695</th>\n",
       "      <td>4906</td>\n",
       "      <td>1</td>\n",
       "      <td>43</td>\n",
       "      <td>3.0</td>\n",
       "      <td>1</td>\n",
       "      <td>20.0</td>\n",
       "      <td>0.0</td>\n",
       "      <td>0.0</td>\n",
       "      <td>0</td>\n",
       "      <td>0.0</td>\n",
       "      <td>240.0</td>\n",
       "      <td>147.5</td>\n",
       "      <td>88.0</td>\n",
       "      <td>25.60</td>\n",
       "      <td>65.0</td>\n",
       "      <td>81.596183</td>\n",
       "    </tr>\n",
       "    <tr>\n",
       "      <th>3696</th>\n",
       "      <td>4907</td>\n",
       "      <td>1</td>\n",
       "      <td>41</td>\n",
       "      <td>2.0</td>\n",
       "      <td>1</td>\n",
       "      <td>40.0</td>\n",
       "      <td>0.0</td>\n",
       "      <td>0.0</td>\n",
       "      <td>0</td>\n",
       "      <td>0.0</td>\n",
       "      <td>242.0</td>\n",
       "      <td>124.5</td>\n",
       "      <td>86.5</td>\n",
       "      <td>28.80</td>\n",
       "      <td>87.0</td>\n",
       "      <td>67.000000</td>\n",
       "    </tr>\n",
       "    <tr>\n",
       "      <th>3697</th>\n",
       "      <td>4908</td>\n",
       "      <td>0</td>\n",
       "      <td>34</td>\n",
       "      <td>2.0</td>\n",
       "      <td>1</td>\n",
       "      <td>20.0</td>\n",
       "      <td>0.0</td>\n",
       "      <td>0.0</td>\n",
       "      <td>0</td>\n",
       "      <td>0.0</td>\n",
       "      <td>180.0</td>\n",
       "      <td>111.0</td>\n",
       "      <td>56.0</td>\n",
       "      <td>21.51</td>\n",
       "      <td>91.0</td>\n",
       "      <td>78.000000</td>\n",
       "    </tr>\n",
       "  </tbody>\n",
       "</table>\n",
       "<p>3698 rows × 16 columns</p>\n",
       "</div>"
      ],
      "text/plain": [
       "      P_ID  male  age  education  currentSmoker  cigsPerDay  BPMeds  \\\n",
       "0     1211     1   39        4.0              0         0.0     0.0   \n",
       "1     1212     0   46        2.0              0         0.0     0.0   \n",
       "2     1213     1   48        1.0              1        20.0     0.0   \n",
       "3     1214     0   61        3.0              1        30.0     0.0   \n",
       "4     1215     0   46        3.0              1        23.0     0.0   \n",
       "...    ...   ...  ...        ...            ...         ...     ...   \n",
       "3693  4904     1   52        3.0              0         0.0     0.0   \n",
       "3694  4905     0   63        1.0              0         0.0     0.0   \n",
       "3695  4906     1   43        3.0              1        20.0     0.0   \n",
       "3696  4907     1   41        2.0              1        40.0     0.0   \n",
       "3697  4908     0   34        2.0              1        20.0     0.0   \n",
       "\n",
       "      prevalentStroke  prevalentHyp  diabetes  totChol  sysBP  diaBP    BMI  \\\n",
       "0                 0.0             0       0.0    195.0  106.0   70.0  26.97   \n",
       "1                 0.0             0       0.0    250.0  121.0   81.0  28.73   \n",
       "2                 0.0             0       0.0    245.0  127.5   80.0  25.34   \n",
       "3                 0.0             1       0.0    225.0  150.0   95.0  28.58   \n",
       "4                 0.0             0       0.0    285.0  130.0   84.0  23.10   \n",
       "...               ...           ...       ...      ...    ...    ...    ...   \n",
       "3693              0.0             0       0.0    225.0  119.0   65.0  26.89   \n",
       "3694              0.0             0       0.0    235.0  125.0   79.0  24.38   \n",
       "3695              0.0             0       0.0    240.0  147.5   88.0  25.60   \n",
       "3696              0.0             0       0.0    242.0  124.5   86.5  28.80   \n",
       "3697              0.0             0       0.0    180.0  111.0   56.0  21.51   \n",
       "\n",
       "      heartRate     glucose  \n",
       "0          80.0   77.000000  \n",
       "1          95.0   76.000000  \n",
       "2          75.0   70.000000  \n",
       "3          65.0  103.000000  \n",
       "4          85.0   85.000000  \n",
       "...         ...         ...  \n",
       "3693       62.0   74.000000  \n",
       "3694       96.0   83.000000  \n",
       "3695       65.0   81.596183  \n",
       "3696       87.0   67.000000  \n",
       "3697       91.0   78.000000  \n",
       "\n",
       "[3698 rows x 16 columns]"
      ]
     },
     "execution_count": 180,
     "metadata": {},
     "output_type": "execute_result"
    }
   ],
   "source": [
    "df_num"
   ]
  },
  {
   "cell_type": "code",
   "execution_count": 181,
   "id": "9c12b8bd",
   "metadata": {
    "ExecuteTime": {
     "end_time": "2022-07-14T12:54:35.603877Z",
     "start_time": "2022-07-14T12:54:35.596141Z"
    }
   },
   "outputs": [],
   "source": [
    "X = df_num"
   ]
  },
  {
   "cell_type": "code",
   "execution_count": 192,
   "id": "8d15f5d5",
   "metadata": {
    "ExecuteTime": {
     "end_time": "2022-07-14T13:00:00.539274Z",
     "start_time": "2022-07-14T13:00:00.531656Z"
    }
   },
   "outputs": [],
   "source": [
    "from sklearn.feature_selection import SelectKBest\n",
    "from sklearn.feature_selection import chi2\n",
    "from sklearn.metrics import r2_score"
   ]
  },
  {
   "cell_type": "code",
   "execution_count": 205,
   "id": "88ccc910",
   "metadata": {
    "ExecuteTime": {
     "end_time": "2022-07-14T13:15:45.895281Z",
     "start_time": "2022-07-14T13:15:45.872883Z"
    }
   },
   "outputs": [
    {
     "name": "stderr",
     "output_type": "stream",
     "text": [
      "C:\\ProgramData\\Anaconda3\\lib\\site-packages\\sklearn\\utils\\validation.py:70: FutureWarning: Pass k=6 as keyword args. From version 1.0 (renaming of 0.25) passing these as positional arguments will result in an error\n",
      "  warnings.warn(f\"Pass {args_msg} as keyword args. From version \"\n"
     ]
    }
   ],
   "source": [
    "df_new = SelectKBest(chi2,6).fit_transform(X,Y)"
   ]
  },
  {
   "cell_type": "code",
   "execution_count": 206,
   "id": "f7b6883a",
   "metadata": {
    "ExecuteTime": {
     "end_time": "2022-07-14T13:15:46.270262Z",
     "start_time": "2022-07-14T13:15:46.262452Z"
    }
   },
   "outputs": [
    {
     "data": {
      "text/plain": [
       "(3698, 6)"
      ]
     },
     "execution_count": 206,
     "metadata": {},
     "output_type": "execute_result"
    }
   ],
   "source": [
    "df_new.shape"
   ]
  },
  {
   "cell_type": "code",
   "execution_count": 207,
   "id": "5fb4001c",
   "metadata": {
    "ExecuteTime": {
     "end_time": "2022-07-14T13:15:49.164508Z",
     "start_time": "2022-07-14T13:15:49.156080Z"
    }
   },
   "outputs": [],
   "source": [
    "from sklearn.linear_model import LogisticRegression\n",
    "from sklearn.model_selection import train_test_split"
   ]
  },
  {
   "cell_type": "code",
   "execution_count": 208,
   "id": "00ded6cb",
   "metadata": {
    "ExecuteTime": {
     "end_time": "2022-07-14T13:15:49.523638Z",
     "start_time": "2022-07-14T13:15:49.515680Z"
    }
   },
   "outputs": [],
   "source": [
    "X_train,x_test,Y_train, y_test = train_test_split(df_new,Y,test_size=0.4,random_state=40)"
   ]
  },
  {
   "cell_type": "code",
   "execution_count": 209,
   "id": "40757d44",
   "metadata": {
    "ExecuteTime": {
     "end_time": "2022-07-14T13:15:49.760260Z",
     "start_time": "2022-07-14T13:15:49.756763Z"
    }
   },
   "outputs": [],
   "source": [
    "logistic = LogisticRegression()\n"
   ]
  },
  {
   "cell_type": "code",
   "execution_count": 210,
   "id": "84eda3cd",
   "metadata": {
    "ExecuteTime": {
     "end_time": "2022-07-14T13:15:50.517715Z",
     "start_time": "2022-07-14T13:15:50.461722Z"
    }
   },
   "outputs": [
    {
     "data": {
      "text/plain": [
       "LogisticRegression()"
      ]
     },
     "execution_count": 210,
     "metadata": {},
     "output_type": "execute_result"
    }
   ],
   "source": [
    "logistic.fit(X_train,Y_train)"
   ]
  },
  {
   "cell_type": "code",
   "execution_count": 211,
   "id": "b269a44e",
   "metadata": {
    "ExecuteTime": {
     "end_time": "2022-07-14T13:15:50.939071Z",
     "start_time": "2022-07-14T13:15:50.930933Z"
    }
   },
   "outputs": [],
   "source": [
    "y_pred = logistic.predict(x_test)"
   ]
  },
  {
   "cell_type": "code",
   "execution_count": 212,
   "id": "57761ecb",
   "metadata": {
    "ExecuteTime": {
     "end_time": "2022-07-14T13:15:51.766496Z",
     "start_time": "2022-07-14T13:15:51.758627Z"
    }
   },
   "outputs": [
    {
     "data": {
      "text/plain": [
       "-25.895380434782616"
      ]
     },
     "execution_count": 212,
     "metadata": {},
     "output_type": "execute_result"
    }
   ],
   "source": [
    "r2_score(y_pred,y_test)"
   ]
  },
  {
   "cell_type": "code",
   "execution_count": 213,
   "id": "00b8865a",
   "metadata": {
    "ExecuteTime": {
     "end_time": "2022-07-14T13:15:52.528934Z",
     "start_time": "2022-07-14T13:15:52.516160Z"
    }
   },
   "outputs": [
    {
     "data": {
      "text/plain": [
       "0.8554054054054054"
      ]
     },
     "execution_count": 213,
     "metadata": {},
     "output_type": "execute_result"
    }
   ],
   "source": [
    "logistic.score(x_test,y_test)"
   ]
  },
  {
   "cell_type": "code",
   "execution_count": 195,
   "id": "7c8e3489",
   "metadata": {
    "ExecuteTime": {
     "end_time": "2022-07-14T13:08:18.051932Z",
     "start_time": "2022-07-14T13:08:18.018566Z"
    }
   },
   "outputs": [
    {
     "ename": "ValueError",
     "evalue": "The truth value of a DataFrame is ambiguous. Use a.empty, a.bool(), a.item(), a.any() or a.all().",
     "output_type": "error",
     "traceback": [
      "\u001b[1;31m---------------------------------------------------------------------------\u001b[0m",
      "\u001b[1;31mValueError\u001b[0m                                Traceback (most recent call last)",
      "\u001b[1;32m~\\AppData\\Local\\Temp/ipykernel_6840/3329833276.py\u001b[0m in \u001b[0;36m<module>\u001b[1;34m\u001b[0m\n\u001b[1;32m----> 1\u001b[1;33m \u001b[0mnew\u001b[0m \u001b[1;33m=\u001b[0m \u001b[0mpd\u001b[0m\u001b[1;33m.\u001b[0m\u001b[0mSeries\u001b[0m\u001b[1;33m(\u001b[0m\u001b[0mdf\u001b[0m\u001b[1;33m,\u001b[0m \u001b[0mX\u001b[0m\u001b[1;33m.\u001b[0m\u001b[0mcolumns\u001b[0m\u001b[1;33m[\u001b[0m\u001b[1;36m0\u001b[0m\u001b[1;33m:\u001b[0m\u001b[0mlen\u001b[0m\u001b[1;33m(\u001b[0m\u001b[0mX\u001b[0m\u001b[1;33m.\u001b[0m\u001b[0mcolumns\u001b[0m\u001b[1;33m)\u001b[0m\u001b[1;33m-\u001b[0m\u001b[1;36m1\u001b[0m\u001b[1;33m]\u001b[0m\u001b[1;33m)\u001b[0m\u001b[1;33m\u001b[0m\u001b[1;33m\u001b[0m\u001b[0m\n\u001b[0m\u001b[0;32m      2\u001b[0m \u001b[0mnew\u001b[0m\u001b[1;33m.\u001b[0m\u001b[0mplot\u001b[0m\u001b[1;33m(\u001b[0m\u001b[0mkind\u001b[0m \u001b[1;33m=\u001b[0m \u001b[1;34m'barh'\u001b[0m\u001b[1;33m,\u001b[0m\u001b[0mcolor\u001b[0m \u001b[1;33m=\u001b[0m \u001b[1;34m'teal'\u001b[0m\u001b[1;33m)\u001b[0m\u001b[1;33m\u001b[0m\u001b[1;33m\u001b[0m\u001b[0m\n\u001b[0;32m      3\u001b[0m \u001b[0mplt\u001b[0m\u001b[1;33m.\u001b[0m\u001b[0mshow\u001b[0m\u001b[1;33m(\u001b[0m\u001b[1;33m)\u001b[0m\u001b[1;33m\u001b[0m\u001b[1;33m\u001b[0m\u001b[0m\n",
      "\u001b[1;32mC:\\ProgramData\\Anaconda3\\lib\\site-packages\\pandas\\core\\series.py\u001b[0m in \u001b[0;36m__init__\u001b[1;34m(self, data, index, dtype, name, copy, fastpath)\u001b[0m\n\u001b[0;32m    353\u001b[0m             \u001b[0mname\u001b[0m \u001b[1;33m=\u001b[0m \u001b[0mibase\u001b[0m\u001b[1;33m.\u001b[0m\u001b[0mmaybe_extract_name\u001b[0m\u001b[1;33m(\u001b[0m\u001b[0mname\u001b[0m\u001b[1;33m,\u001b[0m \u001b[0mdata\u001b[0m\u001b[1;33m,\u001b[0m \u001b[0mtype\u001b[0m\u001b[1;33m(\u001b[0m\u001b[0mself\u001b[0m\u001b[1;33m)\u001b[0m\u001b[1;33m)\u001b[0m\u001b[1;33m\u001b[0m\u001b[1;33m\u001b[0m\u001b[0m\n\u001b[0;32m    354\u001b[0m \u001b[1;33m\u001b[0m\u001b[0m\n\u001b[1;32m--> 355\u001b[1;33m             \u001b[1;32mif\u001b[0m \u001b[0mis_empty_data\u001b[0m\u001b[1;33m(\u001b[0m\u001b[0mdata\u001b[0m\u001b[1;33m)\u001b[0m \u001b[1;32mand\u001b[0m \u001b[0mdtype\u001b[0m \u001b[1;32mis\u001b[0m \u001b[1;32mNone\u001b[0m\u001b[1;33m:\u001b[0m\u001b[1;33m\u001b[0m\u001b[1;33m\u001b[0m\u001b[0m\n\u001b[0m\u001b[0;32m    356\u001b[0m                 \u001b[1;31m# gh-17261\u001b[0m\u001b[1;33m\u001b[0m\u001b[1;33m\u001b[0m\u001b[0m\n\u001b[0;32m    357\u001b[0m                 warnings.warn(\n",
      "\u001b[1;32mC:\\ProgramData\\Anaconda3\\lib\\site-packages\\pandas\\core\\construction.py\u001b[0m in \u001b[0;36mis_empty_data\u001b[1;34m(data)\u001b[0m\n\u001b[0;32m    794\u001b[0m     \u001b[0mis_none\u001b[0m \u001b[1;33m=\u001b[0m \u001b[0mdata\u001b[0m \u001b[1;32mis\u001b[0m \u001b[1;32mNone\u001b[0m\u001b[1;33m\u001b[0m\u001b[1;33m\u001b[0m\u001b[0m\n\u001b[0;32m    795\u001b[0m     \u001b[0mis_list_like_without_dtype\u001b[0m \u001b[1;33m=\u001b[0m \u001b[0mis_list_like\u001b[0m\u001b[1;33m(\u001b[0m\u001b[0mdata\u001b[0m\u001b[1;33m)\u001b[0m \u001b[1;32mand\u001b[0m \u001b[1;32mnot\u001b[0m \u001b[0mhasattr\u001b[0m\u001b[1;33m(\u001b[0m\u001b[0mdata\u001b[0m\u001b[1;33m,\u001b[0m \u001b[1;34m\"dtype\"\u001b[0m\u001b[1;33m)\u001b[0m\u001b[1;33m\u001b[0m\u001b[1;33m\u001b[0m\u001b[0m\n\u001b[1;32m--> 796\u001b[1;33m     \u001b[0mis_simple_empty\u001b[0m \u001b[1;33m=\u001b[0m \u001b[0mis_list_like_without_dtype\u001b[0m \u001b[1;32mand\u001b[0m \u001b[1;32mnot\u001b[0m \u001b[0mdata\u001b[0m\u001b[1;33m\u001b[0m\u001b[1;33m\u001b[0m\u001b[0m\n\u001b[0m\u001b[0;32m    797\u001b[0m     \u001b[1;32mreturn\u001b[0m \u001b[0mis_none\u001b[0m \u001b[1;32mor\u001b[0m \u001b[0mis_simple_empty\u001b[0m\u001b[1;33m\u001b[0m\u001b[1;33m\u001b[0m\u001b[0m\n\u001b[0;32m    798\u001b[0m \u001b[1;33m\u001b[0m\u001b[0m\n",
      "\u001b[1;32mC:\\ProgramData\\Anaconda3\\lib\\site-packages\\pandas\\core\\generic.py\u001b[0m in \u001b[0;36m__nonzero__\u001b[1;34m(self)\u001b[0m\n\u001b[0;32m   1535\u001b[0m     \u001b[1;33m@\u001b[0m\u001b[0mfinal\u001b[0m\u001b[1;33m\u001b[0m\u001b[1;33m\u001b[0m\u001b[0m\n\u001b[0;32m   1536\u001b[0m     \u001b[1;32mdef\u001b[0m \u001b[0m__nonzero__\u001b[0m\u001b[1;33m(\u001b[0m\u001b[0mself\u001b[0m\u001b[1;33m)\u001b[0m\u001b[1;33m:\u001b[0m\u001b[1;33m\u001b[0m\u001b[1;33m\u001b[0m\u001b[0m\n\u001b[1;32m-> 1537\u001b[1;33m         raise ValueError(\n\u001b[0m\u001b[0;32m   1538\u001b[0m             \u001b[1;34mf\"The truth value of a {type(self).__name__} is ambiguous. \"\u001b[0m\u001b[1;33m\u001b[0m\u001b[1;33m\u001b[0m\u001b[0m\n\u001b[0;32m   1539\u001b[0m             \u001b[1;34m\"Use a.empty, a.bool(), a.item(), a.any() or a.all().\"\u001b[0m\u001b[1;33m\u001b[0m\u001b[1;33m\u001b[0m\u001b[0m\n",
      "\u001b[1;31mValueError\u001b[0m: The truth value of a DataFrame is ambiguous. Use a.empty, a.bool(), a.item(), a.any() or a.all()."
     ]
    }
   ],
   "source": [
    "new = pd.Series(df, X.columns[0:len(X.columns)-1])\n",
    "new.plot(kind = 'barh',color = 'teal')\n",
    "plt.show()"
   ]
  },
  {
   "cell_type": "code",
   "execution_count": null,
   "id": "9e6c5cb3",
   "metadata": {},
   "outputs": [],
   "source": []
  },
  {
   "cell_type": "code",
   "execution_count": null,
   "id": "aa44c3ee",
   "metadata": {},
   "outputs": [],
   "source": []
  },
  {
   "cell_type": "code",
   "execution_count": null,
   "id": "b42a79ec",
   "metadata": {},
   "outputs": [],
   "source": []
  },
  {
   "cell_type": "code",
   "execution_count": null,
   "id": "76ac84af",
   "metadata": {},
   "outputs": [],
   "source": []
  }
 ],
 "metadata": {
  "kernelspec": {
   "display_name": "Python 3 (ipykernel)",
   "language": "python",
   "name": "python3"
  },
  "language_info": {
   "codemirror_mode": {
    "name": "ipython",
    "version": 3
   },
   "file_extension": ".py",
   "mimetype": "text/x-python",
   "name": "python",
   "nbconvert_exporter": "python",
   "pygments_lexer": "ipython3",
   "version": "3.9.7"
  },
  "toc": {
   "base_numbering": 1,
   "nav_menu": {},
   "number_sections": true,
   "sideBar": true,
   "skip_h1_title": false,
   "title_cell": "Table of Contents",
   "title_sidebar": "Heart Risk Dataset",
   "toc_cell": true,
   "toc_position": {},
   "toc_section_display": true,
   "toc_window_display": true
  },
  "vscode": {
   "interpreter": {
    "hash": "ad2bdc8ecc057115af97d19610ffacc2b4e99fae6737bb82f5d7fb13d2f2c186"
   }
  }
 },
 "nbformat": 4,
 "nbformat_minor": 5
}
